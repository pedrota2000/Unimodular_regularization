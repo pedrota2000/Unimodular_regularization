{
 "cells": [
  {
   "cell_type": "code",
   "execution_count": 2,
   "id": "wR9bKWlLM5X3",
   "metadata": {
    "colab": {
     "base_uri": "https://localhost:8080/"
    },
    "executionInfo": {
     "elapsed": 94131,
     "status": "ok",
     "timestamp": 1721741116200,
     "user": {
      "displayName": "Pedro Tarancón Álvarez",
      "userId": "03364916759729974170"
     },
     "user_tz": -120
    },
    "id": "wR9bKWlLM5X3",
    "outputId": "0247cf15-d09a-451b-e45c-32c9be64defa"
   },
   "outputs": [
    {
     "name": "stdout",
     "output_type": "stream",
     "text": [
      "Requirement already satisfied: neurodiffeq in /Users/pedro/anaconda3/lib/python3.11/site-packages (0.6.3)\n",
      "Requirement already satisfied: wheel in /Users/pedro/anaconda3/lib/python3.11/site-packages (from neurodiffeq) (0.38.4)\n",
      "Requirement already satisfied: packaging in /Users/pedro/anaconda3/lib/python3.11/site-packages (from neurodiffeq) (23.1)\n",
      "Requirement already satisfied: matplotlib in /Users/pedro/anaconda3/lib/python3.11/site-packages (from neurodiffeq) (3.7.2)\n",
      "Requirement already satisfied: numpy in /Users/pedro/anaconda3/lib/python3.11/site-packages (from neurodiffeq) (1.24.3)\n",
      "Requirement already satisfied: torch in /Users/pedro/anaconda3/lib/python3.11/site-packages (from neurodiffeq) (2.1.0)\n",
      "Requirement already satisfied: scipy in /Users/pedro/anaconda3/lib/python3.11/site-packages (from neurodiffeq) (1.11.1)\n",
      "Requirement already satisfied: pytest in /Users/pedro/anaconda3/lib/python3.11/site-packages (from neurodiffeq) (7.4.0)\n",
      "Requirement already satisfied: pandas in /Users/pedro/anaconda3/lib/python3.11/site-packages (from neurodiffeq) (2.0.3)\n",
      "Requirement already satisfied: seaborn in /Users/pedro/anaconda3/lib/python3.11/site-packages (from neurodiffeq) (0.12.2)\n",
      "Requirement already satisfied: dill in /Users/pedro/anaconda3/lib/python3.11/site-packages (from neurodiffeq) (0.3.6)\n",
      "Requirement already satisfied: tensorboard in /Users/pedro/anaconda3/lib/python3.11/site-packages (from neurodiffeq) (2.15.1)\n",
      "Requirement already satisfied: tqdm in /Users/pedro/anaconda3/lib/python3.11/site-packages (from neurodiffeq) (4.65.0)\n",
      "Requirement already satisfied: requests in /Users/pedro/anaconda3/lib/python3.11/site-packages (from neurodiffeq) (2.31.0)\n",
      "Requirement already satisfied: ordered-set in /Users/pedro/anaconda3/lib/python3.11/site-packages (from neurodiffeq) (4.1.0)\n",
      "Requirement already satisfied: contourpy>=1.0.1 in /Users/pedro/anaconda3/lib/python3.11/site-packages (from matplotlib->neurodiffeq) (1.0.5)\n",
      "Requirement already satisfied: cycler>=0.10 in /Users/pedro/anaconda3/lib/python3.11/site-packages (from matplotlib->neurodiffeq) (0.11.0)\n",
      "Requirement already satisfied: fonttools>=4.22.0 in /Users/pedro/anaconda3/lib/python3.11/site-packages (from matplotlib->neurodiffeq) (4.25.0)\n",
      "Requirement already satisfied: kiwisolver>=1.0.1 in /Users/pedro/anaconda3/lib/python3.11/site-packages (from matplotlib->neurodiffeq) (1.4.4)\n",
      "Requirement already satisfied: pillow>=6.2.0 in /Users/pedro/anaconda3/lib/python3.11/site-packages (from matplotlib->neurodiffeq) (9.4.0)\n",
      "Requirement already satisfied: pyparsing<3.1,>=2.3.1 in /Users/pedro/anaconda3/lib/python3.11/site-packages (from matplotlib->neurodiffeq) (3.0.9)\n",
      "Requirement already satisfied: python-dateutil>=2.7 in /Users/pedro/anaconda3/lib/python3.11/site-packages (from matplotlib->neurodiffeq) (2.8.2)\n",
      "Requirement already satisfied: pytz>=2020.1 in /Users/pedro/anaconda3/lib/python3.11/site-packages (from pandas->neurodiffeq) (2023.3.post1)\n",
      "Requirement already satisfied: tzdata>=2022.1 in /Users/pedro/anaconda3/lib/python3.11/site-packages (from pandas->neurodiffeq) (2023.3)\n",
      "Requirement already satisfied: iniconfig in /Users/pedro/anaconda3/lib/python3.11/site-packages (from pytest->neurodiffeq) (1.1.1)\n",
      "Requirement already satisfied: pluggy<2.0,>=0.12 in /Users/pedro/anaconda3/lib/python3.11/site-packages (from pytest->neurodiffeq) (1.0.0)\n",
      "Requirement already satisfied: charset-normalizer<4,>=2 in /Users/pedro/anaconda3/lib/python3.11/site-packages (from requests->neurodiffeq) (2.0.4)\n",
      "Requirement already satisfied: idna<4,>=2.5 in /Users/pedro/anaconda3/lib/python3.11/site-packages (from requests->neurodiffeq) (3.4)\n",
      "Requirement already satisfied: urllib3<3,>=1.21.1 in /Users/pedro/anaconda3/lib/python3.11/site-packages (from requests->neurodiffeq) (1.26.16)\n",
      "Requirement already satisfied: certifi>=2017.4.17 in /Users/pedro/anaconda3/lib/python3.11/site-packages (from requests->neurodiffeq) (2023.7.22)\n",
      "Requirement already satisfied: absl-py>=0.4 in /Users/pedro/anaconda3/lib/python3.11/site-packages (from tensorboard->neurodiffeq) (2.0.0)\n",
      "Requirement already satisfied: grpcio>=1.48.2 in /Users/pedro/anaconda3/lib/python3.11/site-packages (from tensorboard->neurodiffeq) (1.59.2)\n",
      "Requirement already satisfied: google-auth<3,>=1.6.3 in /Users/pedro/anaconda3/lib/python3.11/site-packages (from tensorboard->neurodiffeq) (2.23.4)\n",
      "Requirement already satisfied: google-auth-oauthlib<2,>=0.5 in /Users/pedro/anaconda3/lib/python3.11/site-packages (from tensorboard->neurodiffeq) (1.1.0)\n",
      "Requirement already satisfied: markdown>=2.6.8 in /Users/pedro/anaconda3/lib/python3.11/site-packages (from tensorboard->neurodiffeq) (3.4.1)\n",
      "Requirement already satisfied: protobuf<4.24,>=3.19.6 in /Users/pedro/anaconda3/lib/python3.11/site-packages (from tensorboard->neurodiffeq) (4.23.4)\n",
      "Requirement already satisfied: setuptools>=41.0.0 in /Users/pedro/anaconda3/lib/python3.11/site-packages (from tensorboard->neurodiffeq) (68.0.0)\n",
      "Requirement already satisfied: six>1.9 in /Users/pedro/anaconda3/lib/python3.11/site-packages (from tensorboard->neurodiffeq) (1.16.0)\n",
      "Requirement already satisfied: tensorboard-data-server<0.8.0,>=0.7.0 in /Users/pedro/anaconda3/lib/python3.11/site-packages (from tensorboard->neurodiffeq) (0.7.2)\n",
      "Requirement already satisfied: werkzeug>=1.0.1 in /Users/pedro/anaconda3/lib/python3.11/site-packages (from tensorboard->neurodiffeq) (2.2.3)\n",
      "Requirement already satisfied: filelock in /Users/pedro/anaconda3/lib/python3.11/site-packages (from torch->neurodiffeq) (3.9.0)\n",
      "Requirement already satisfied: typing-extensions in /Users/pedro/anaconda3/lib/python3.11/site-packages (from torch->neurodiffeq) (4.7.1)\n",
      "Requirement already satisfied: sympy in /Users/pedro/anaconda3/lib/python3.11/site-packages (from torch->neurodiffeq) (1.11.1)\n",
      "Requirement already satisfied: networkx in /Users/pedro/anaconda3/lib/python3.11/site-packages (from torch->neurodiffeq) (3.1)\n",
      "Requirement already satisfied: jinja2 in /Users/pedro/anaconda3/lib/python3.11/site-packages (from torch->neurodiffeq) (3.1.2)\n",
      "Requirement already satisfied: fsspec in /Users/pedro/anaconda3/lib/python3.11/site-packages (from torch->neurodiffeq) (2023.4.0)\n",
      "Requirement already satisfied: cachetools<6.0,>=2.0.0 in /Users/pedro/anaconda3/lib/python3.11/site-packages (from google-auth<3,>=1.6.3->tensorboard->neurodiffeq) (5.3.2)\n",
      "Requirement already satisfied: pyasn1-modules>=0.2.1 in /Users/pedro/anaconda3/lib/python3.11/site-packages (from google-auth<3,>=1.6.3->tensorboard->neurodiffeq) (0.2.8)\n",
      "Requirement already satisfied: rsa<5,>=3.1.4 in /Users/pedro/anaconda3/lib/python3.11/site-packages (from google-auth<3,>=1.6.3->tensorboard->neurodiffeq) (4.9)\n",
      "Requirement already satisfied: requests-oauthlib>=0.7.0 in /Users/pedro/anaconda3/lib/python3.11/site-packages (from google-auth-oauthlib<2,>=0.5->tensorboard->neurodiffeq) (1.3.1)\n",
      "Requirement already satisfied: MarkupSafe>=2.1.1 in /Users/pedro/anaconda3/lib/python3.11/site-packages (from werkzeug>=1.0.1->tensorboard->neurodiffeq) (2.1.1)\n",
      "Requirement already satisfied: mpmath>=0.19 in /Users/pedro/anaconda3/lib/python3.11/site-packages (from sympy->torch->neurodiffeq) (1.3.0)\n",
      "Requirement already satisfied: pyasn1<0.5.0,>=0.4.6 in /Users/pedro/anaconda3/lib/python3.11/site-packages (from pyasn1-modules>=0.2.1->google-auth<3,>=1.6.3->tensorboard->neurodiffeq) (0.4.8)\n",
      "Requirement already satisfied: oauthlib>=3.0.0 in /Users/pedro/anaconda3/lib/python3.11/site-packages (from requests-oauthlib>=0.7.0->google-auth-oauthlib<2,>=0.5->tensorboard->neurodiffeq) (3.2.2)\n"
     ]
    }
   ],
   "source": [
    "!pip install neurodiffeq"
   ]
  },
  {
   "cell_type": "code",
   "execution_count": 1,
   "id": "Emlx4at4MUoR",
   "metadata": {
    "executionInfo": {
     "elapsed": 6684,
     "status": "ok",
     "timestamp": 1721741122881,
     "user": {
      "displayName": "Pedro Tarancón Álvarez",
      "userId": "03364916759729974170"
     },
     "user_tz": -120
    },
    "id": "Emlx4at4MUoR"
   },
   "outputs": [],
   "source": [
    "# Import necessary libraries\n",
    "import torch\n",
    "import numpy as np\n",
    "from tqdm.notebook import tqdm\n",
    "from scipy.integrate import odeint\n",
    "\n",
    "import neurodiffeq\n",
    "from neurodiffeq import diff\n",
    "from neurodiffeq.conditions import IVP, DirichletBVP, DirichletBVP2D, BundleIVP, NoCondition, BundleDirichletBVP\n",
    "from neurodiffeq.solvers import *\n",
    "from neurodiffeq.networks import FCNN, SinActv\n",
    "from neurodiffeq.monitors import Monitor1D\n",
    "from neurodiffeq.generators import Generator1D, Generator2D, PredefinedGenerator, BaseGenerator, PredefinedGenerator\n",
    "from neurodiffeq.callbacks import ActionCallback\n",
    "from neurodiffeq import diff\n",
    "\n",
    "import copy as copy\n",
    "import cmath as cmath\n",
    "import types"
   ]
  },
  {
   "cell_type": "code",
   "execution_count": 2,
   "id": "Igb5DWv8MUoS",
   "metadata": {
    "executionInfo": {
     "elapsed": 6,
     "status": "ok",
     "timestamp": 1721741122882,
     "user": {
      "displayName": "Pedro Tarancón Álvarez",
      "userId": "03364916759729974170"
     },
     "user_tz": -120
    },
    "id": "Igb5DWv8MUoS"
   },
   "outputs": [],
   "source": [
    "# Helper code to make graphs look better\n",
    "import seaborn as sns\n",
    "from cycler import cycler\n",
    "import matplotlib.pyplot as plt\n",
    "from matplotlib.animation import FuncAnimation\n",
    "large = 24; medium = 18; small = 12\n",
    "colors = ['#66bb6a', '#558ed5', '#dd6a63', '#dcd0ff', '#ffa726', '#8c5eff', '#f44336', '#00bcd4', '#ffc107', '#9c27b0']\n",
    "params = {'axes.titlesize': medium,\n",
    "          'legend.fontsize': small,\n",
    "          'figure.figsize': (8, 8),\n",
    "          'axes.labelsize': small,\n",
    "          'axes.linewidth': 2,\n",
    "          'xtick.labelsize': small,\n",
    "          'xtick.color' : '#1D1717',\n",
    "          'ytick.color' : '#1D1717',\n",
    "          'ytick.labelsize': small,\n",
    "          'axes.edgecolor':'#1D1717',\n",
    "          'figure.titlesize': medium,\n",
    "          'axes.prop_cycle': cycler(color = colors),}\n",
    "plt.rcParams.update(params)\n",
    "%matplotlib inline\n",
    "\n",
    "vec_sqrt = np.vectorize(cmath.sqrt)\n",
    "vec_exp = np.vectorize(cmath.exp)\n",
    "vec_cosh =  np.vectorize(cmath.cosh)\n",
    "vec_sinh =  np.vectorize(cmath.sinh)\n",
    "\n",
    "def _requires_closure(optimizer):\n",
    "    # starting from torch v1.13, simple optimizers no longer have a `closure` argument\n",
    "    closure_param = inspect.signature(optimizer.step).parameters.get('closure')\n",
    "    return closure_param and closure_param.default == inspect._empty\n",
    "\n",
    "# Mesh generators for the bundle solver #\n",
    "class MeshGenerator(BaseGenerator):\n",
    "\n",
    "    def __init__(self, g1, pg):\n",
    "\n",
    "        super(MeshGenerator, self).__init__()\n",
    "        self.g1 = g1\n",
    "        self.pg = pg\n",
    "\n",
    "    def get_examples(self):\n",
    "\n",
    "        u = self.g1.get_examples()\n",
    "        u = u.reshape(-1, 1, 1)\n",
    "\n",
    "        bundle_params = self.pg.get_examples()\n",
    "        if isinstance(bundle_params, torch.Tensor):\n",
    "            bundle_params = (bundle_params,)\n",
    "        assert len(bundle_params[0].shape) == 1, \"shape error, ask shuheng\"\n",
    "        n_params = len(bundle_params)\n",
    "\n",
    "        bundle_params = torch.stack(bundle_params, dim=1)\n",
    "        bundle_params = bundle_params.reshape(1, -1, n_params)\n",
    "\n",
    "        uu, bb = torch.broadcast_tensors(u, bundle_params)\n",
    "        uu = uu[:, :, 0].reshape(-1)\n",
    "        bb = [bb[:, :, i].reshape(-1) for i in range(n_params)]\n",
    "\n",
    "        return uu, *bb\n",
    "\n",
    "class DoSchedulerStep(ActionCallback):\n",
    "    def __init__(self, scheduler):\n",
    "        super().__init__()\n",
    "        self.scheduler = scheduler\n",
    "\n",
    "    def __call__(self, solver):\n",
    "        self.scheduler.step()"
   ]
  },
  {
   "cell_type": "code",
   "execution_count": 3,
   "id": "3gOgEuc5pI0s",
   "metadata": {
    "executionInfo": {
     "elapsed": 5,
     "status": "ok",
     "timestamp": 1721741122882,
     "user": {
      "displayName": "Pedro Tarancón Álvarez",
      "userId": "03364916759729974170"
     },
     "user_tz": -120
    },
    "id": "3gOgEuc5pI0s"
   },
   "outputs": [],
   "source": [
    "# CREATE THE CLASS OF THE EQUATIONS #\n",
    "class NET(nn.Module):\n",
    "    def __init__(self, H_model, head_model):\n",
    "        super(NET, self).__init__()\n",
    "        self.H_model = H_model\n",
    "        self.head_model = head_model\n",
    "\n",
    "    def forward(self, x):\n",
    "        x = self.H_model(x)\n",
    "        x = self.head_model(x)\n",
    "        return x\n",
    "    \n",
    "class NET_FAN(nn.Module):\n",
    "    def __init__(self, H_model, head_model):\n",
    "        super(NET_FAN, self).__init__()\n",
    "        self.H_model = H_model\n",
    "        self.head_model = head_model\n",
    "\n",
    "    def forward(self, x):\n",
    "        H_in = x\n",
    "        H_out = self.H_model(x)\n",
    "        H_dot = []\n",
    "        for i in range(H_out.shape[1]):\n",
    "            H_dot.append(diff(H_out[:,i],H_in,shape_check=False)[:,0])\n",
    "        H_dot = torch.stack(H_dot)\n",
    "        x = torch.cat((H_out.t(),H_dot),dim = 0).reshape(H_out.shape[0],-1)\n",
    "        x = self.head_model(x)\n",
    "        return x\n",
    "\n",
    "# MULTIHEAD NN FREEZE #\n",
    "class NET_FREEZE(nn.Module):\n",
    "    def __init__(self, H_model, head_model):\n",
    "        super(NET_FREEZE, self).__init__()\n",
    "\n",
    "        for param in H_model.parameters():\n",
    "            param.requires_grad = False\n",
    "        self.H_model = H_model\n",
    "        self.head_model = head_model\n",
    "        # Freeze the parameters of H_model\n",
    "        #for param in self.H_model.parameters():\n",
    "            #param.requires_grad = False\n",
    "\n",
    "    def forward(self, x):\n",
    "        x = self.H_model(x)\n",
    "        x = self.head_model(x)\n",
    "        return x\n"
   ]
  },
  {
   "cell_type": "code",
   "execution_count": 4,
   "id": "dwTOpWHe0-rm",
   "metadata": {
    "executionInfo": {
     "elapsed": 4,
     "status": "ok",
     "timestamp": 1721741122882,
     "user": {
      "displayName": "Pedro Tarancón Álvarez",
      "userId": "03364916759729974170"
     },
     "user_tz": -120
    },
    "id": "dwTOpWHe0-rm"
   },
   "outputs": [],
   "source": [
    "# DEFINE THE EQUATIONS #\n",
    "def generate_equations(n_heads):\n",
    "  eq_dict = {} # Initialize the dictionary\n",
    "  # Loop to create functions\n",
    "  for head in range(n_heads):\n",
    "      # Define a new function using a lambda or nested function\n",
    "      def make_equations(head):\n",
    "        def eq(x,y,t):\n",
    "          a = a_list[head]\n",
    "          eq1 = diff(y,t) - rho*a*(1-x**2)*y + x*rho\n",
    "          eq2 = diff(x,t)-y*rho\n",
    "          return [eq1, eq2]\n",
    "        return eq\n",
    "      # Store the function in the dictionary\n",
    "      eq_dict.update({f'equations_{head}':make_equations(head)})  # Now at the correct indentation level\n",
    "  print('Equations dictionary generated')\n",
    "  print(eq_dict)\n",
    "  return eq_dict\n",
    "\n",
    "\n",
    "def van_der_pol(t, state, mu):\n",
    "    x, y = state\n",
    "    dxdt = rho*y\n",
    "    dydt = rho*mu * (1 - x**2) * y - x*rho\n",
    "    return np.array([dxdt, dydt])\n",
    "\n",
    "# Runge-Kutta 4th order method\n",
    "def rk4_step(func, t, state, dt, mu):\n",
    "    k1 = func(t, state, mu)\n",
    "    k2 = func(t + dt/2, state + dt*k1/2, mu)\n",
    "    k3 = func(t + dt/2, state + dt*k2/2, mu)\n",
    "    k4 = func(t + dt, state + dt*k3, mu)\n",
    "    return state + (dt/6)*(k1 + 2*k2 + 2*k3 + k4)"
   ]
  },
  {
   "cell_type": "code",
   "execution_count": 5,
   "id": "QsCnsdIdm8pV",
   "metadata": {
    "executionInfo": {
     "elapsed": 4,
     "status": "ok",
     "timestamp": 1721741122882,
     "user": {
      "displayName": "Pedro Tarancón Álvarez",
      "userId": "03364916759729974170"
     },
     "user_tz": -120
    },
    "id": "QsCnsdIdm8pV"
   },
   "outputs": [],
   "source": [
    "# Custom solver to implement the MH with a variable parameter a #\n",
    "class Solver1D_MH(BundleSolver1D):\n",
    "  def __init__(self, a_list, all_nets, t_sampling, flatten=False, *args, **kwargs):\n",
    "\n",
    "        self.n_heads = len(a_list)\n",
    "        self.a_list = a_list\n",
    "        ################################\n",
    "        self.dV = None\n",
    "        self.TL = flatten\n",
    "        self.equations = kwargs.pop('ode_system')\n",
    "        #self.equations = ode_set\n",
    "\n",
    "       # self.ode_set=[]\n",
    "        #for head in range(self.n_heads):\n",
    "         #   self.ode_set.append(self.equations[head])\n",
    "\n",
    "        #self.V = kwargs.pop('V', None)\n",
    "        self.alpha_2 = 0  #int(input('Loss coeff: '))\n",
    "\n",
    "        t_gen = Generator1D(t_sampling,t_min,t_max,'equally-spaced-noisy')\n",
    "        self.ode_list = []\n",
    "        self.all_generators = []\n",
    "        for head in range(self.n_heads):\n",
    "            a_elem = torch.tensor(a_list[head])\n",
    "            pg = PredefinedGenerator([a_elem])\n",
    "            print('head',head)\n",
    "            #ode_system = kwargs.pop('ode_system')\n",
    "            ode_system = self.equations[head]\n",
    "            print('Inside solver __init()__:', ode_system)\n",
    "            super().__init__(ode_system=ode_system, *args, **kwargs)\n",
    "            self.ode_list.append(self.diff_eqs)\n",
    "            # Prepare all the generators #\n",
    "            self.all_generators.append(MeshGenerator(t_gen,pg))\n",
    "            #print('self.diff_eqs after super().__init__()', self.diff_eqs)\n",
    "\n",
    "        #print('ode_list', self.ode_list, self.ode_list[0])\n",
    "        self.all_nets = all_nets\n",
    "        self.head_add_loss = []\n",
    "        self.metrics_history['r2_loss'] = []\n",
    "        #self.metrics_history['head_add_loss'] = []\n",
    "        self.metrics_history['add_loss'] = []\n",
    "        self.metrics_history['DE_loss'] = []\n",
    "       # self.metrics_fn = {\"add_loss\": 0.0,\n",
    "        #                   \"DE_loss\": 0.0\n",
    "        #}\n",
    "\n",
    "        #print('ode_list', self.ode_list, self.ode_list[0])\n",
    "        self.all_nets = all_nets\n",
    "        self.metrics_history['r2_loss'] = []\n",
    "        self.metrics_history['add_loss'] = []\n",
    "        self.metrics_history['phi_max'] = []\n",
    "  def custom_epoch(self, key):\n",
    "        r\"\"\"Run an epoch on train/valid points, update history, and perform an optimization step if key=='train'.\n",
    "\n",
    "        :param key: {'train', 'valid'}; phase of the epoch\n",
    "        :type key: str\n",
    "\n",
    "        .. note::\n",
    "            The optimization step is only performed after all batches are run.\n",
    "        \"\"\"\n",
    "        if self.n_batches[key] <= 0:\n",
    "            # XXX maybe we should append NaN to metric history?\n",
    "            return\n",
    "        self._phase = key\n",
    "\n",
    "        tot_epoch_loss = 0.0\n",
    "       # tot_epoch_add_loss = 0.0\n",
    "       # tot_epoch_DE_loss = 0.0\n",
    "\n",
    "        #batch_loss = 0.0\n",
    "\n",
    "\n",
    "        loss = torch.tensor([0.0]) #, requires_grad=True) #added by me for multihead\n",
    "        #add_loss = torch.tensor([0.0])\n",
    "        #DE_loss = torch.tensor([0.0])\n",
    "\n",
    "\n",
    "        metric_values = {name: 0.0 for name in self.metrics_fn}\n",
    "\n",
    "        # Zero the gradient only once, before running the batches. Gradients of different batches are accumulated.\n",
    "        if key == 'train' and not _requires_closure(self.optimizer):\n",
    "            self.optimizer.zero_grad()\n",
    "\n",
    "        # perform forward pass for all batches: a single graph is created and release in every iteration\n",
    "        # see https://discuss.pytorch.org/t/why-do-we-need-to-set-the-gradients-manually-to-zero-in-pytorch/4903/17\n",
    "\n",
    "        for head in range(self.n_heads):\n",
    "            #print('head', head)\n",
    "            head_epoch_loss = 0.0\n",
    "           # head_epoch_add_loss = 0.0\n",
    "           # head_epoch_DE_loss = 0.0\n",
    "\n",
    "            self.nets = self.all_nets[:,head]\n",
    "            self.diff_eqs = self.ode_list[head]\n",
    "\n",
    "            self.generator[key] = self.all_generators[head]\n",
    "            self.generator['valid'] = self.all_generators[head]\n",
    "           # y = self.generator[key].get_examples()[1].detach().numpy()\n",
    "           # plt.hist(y)\n",
    "            #print(len(self.generator['train'].get_examples()))\n",
    "\n",
    "            for batch_id in range(self.n_batches[key]):\n",
    "                batch = self._generate_batch(key)\n",
    "\n",
    "                #print(len(batch[0]))\n",
    "               # print(self.n_batches[key])\n",
    "\n",
    "                batch_loss = 0.0\n",
    "               # batch_add_loss = 0.0\n",
    "                #batch_DE_loss = 0.0\n",
    "\n",
    "                def closure(zero_grad=True):\n",
    "                    nonlocal batch_loss\n",
    "\n",
    "                    if key == 'train' and zero_grad:\n",
    "                        self.optimizer.zero_grad()\n",
    "                    funcs = [\n",
    "                        self.compute_func_val(n, c, *batch) for n, c in zip(self.nets, self.conditions)\n",
    "                    ]\n",
    "\n",
    "                    for name in self.metrics_fn:\n",
    "                        value = self.metrics_fn[name](*funcs, *batch).item()\n",
    "                        metric_values[name] += value\n",
    "\n",
    "                    #CALLING THE EQUATIONS\n",
    "\n",
    "                    residuals = self.diff_eqs(*funcs, *batch)\n",
    "                    residuals = torch.cat(residuals, dim=1)\n",
    "                   # print(residuals)\n",
    "\n",
    "                    try:\n",
    "                        DE_loss = self.loss_fn(residuals, funcs, batch)\n",
    "                        add_loss = self.additional_loss(residuals, funcs, batch, head)\n",
    "                        loss = DE_loss + add_loss\n",
    "\n",
    "                        #self.metrics_history['add_loss'].append()\n",
    "\n",
    "                        #print('Head' + str(head) + ' loss ' + str(loss))\n",
    "                        #if self.global_epoch %100:\n",
    "                            #print('loss ',head,'=',loss)\n",
    "\n",
    "                    except TypeError as e:\n",
    "                        warnings.warn(\n",
    "                            \"You might need to update your code. \"\n",
    "                            \"Since v0.4.0; both `criterion` and `additional_loss` requires three inputs: \"\n",
    "                            \"`residual`, `funcs`, and `coords`. See documentation for more.\", FutureWarning)\n",
    "                        raise e\n",
    "\n",
    "                    # accumulate gradients before the current graph is collected as garbage\n",
    "\n",
    "                    #DOING BACKPROPAGATION\n",
    "                    if key == 'train':\n",
    "                        loss.backward()\n",
    "                        batch_loss = loss.item()\n",
    "                      #  batch_add_loss = add_loss.item()\n",
    "                       # batch_DE_loss = DE_loss.item()\n",
    "                        #print('0',batch_loss)\n",
    "\n",
    "                   # print(loss,add_loss,DE_loss)\n",
    "\n",
    "                    return loss  #, add_loss, DE_loss\n",
    "\n",
    "                if key == 'train':\n",
    "\n",
    "                        # Optimizer step will be performed only once outside the for-loop (i.e. after all batches).\n",
    "                    closure(zero_grad=False)    #closure(zero_grad=False) was inside else in initial code\n",
    "\n",
    "                    #print('key 2.batch')\n",
    "\n",
    "                    head_epoch_loss += batch_loss\n",
    "                   # head_epoch_add_loss += batch_add_loss\n",
    "                   # head_epoch_DE_loss += batch_DE_loss\n",
    "                    #print('head_loss', head_epoch_loss)\n",
    "                    #head_epoch_loss += closure().item()\n",
    "\n",
    "            if key == 'train':\n",
    "                if _requires_closure(self.optimizer):\n",
    "                    self._do_optimizer_step(closure=closure)\n",
    "                    #print('optimizer step, key 1 head')\n",
    "\n",
    "                ##else:\n",
    "                    #closure(zero_grad=False)\n",
    "                    #print('key 2.head')\n",
    "\n",
    "                tot_epoch_loss += head_epoch_loss\n",
    "           #     tot_epoch_add_loss += head_epoch_add_loss\n",
    "            #    tot_epoch_DE_loss += head_epoch_DE_loss\n",
    "             #   print('epoch losses: ', tot_epoch_loss,tot_epoch_add_loss,tot_epoch_DE_loss)\n",
    "\n",
    "            else:\n",
    "                tot_epoch_loss += closure()[0].item()\n",
    "              #  tot_epoch_add_loss += closure()[1].item()\n",
    "               # tot_epoch_DE_loss += closure()[2].item()\n",
    "                #print('key 3.head')\n",
    "\n",
    "            # If validation is performed, update the best network with the validation loss\n",
    "            # Otherwise, try to update the best network with the training loss\n",
    "        #print(tot_epoch_loss)\n",
    "        self.metrics_history['r2_loss'].append(tot_epoch_loss)\n",
    "\n",
    "\n",
    "        if key == 'valid' or self.n_batches['valid'] == 0:\n",
    "            self._update_best(key)\n",
    "\n",
    "        # perform the optimizer step after all heads are run (if optimizer.step doesn't require `closure`)\n",
    "        if key == 'train' and not _requires_closure(self.optimizer):\n",
    "            self._do_optimizer_step()\n",
    "            #print('optimizer step , key 4 head')\n",
    "\n",
    "            #tot_epoch_loss += (head_epoch_loss / self.n_batches[key])\n",
    "\n",
    "        # calculate the sum of all losses (one per head) and register to history\n",
    "\n",
    "        self._update_history(tot_epoch_loss, 'loss', key)\n",
    "\n",
    "     #   self.metrics_history['add_loss'].append(tot_epoch_add_loss)\n",
    "      #  self.metrics_history['DE_loss'].append(tot_epoch_DE_loss)\n",
    "\n",
    "        # calculate total metrics across heads (and averaged across batches) and register to history\n",
    "        for name in self.metrics_fn:\n",
    "            print(name)\n",
    "            self._update_history(\n",
    "                metric_values[name], name, key)\n",
    "\n",
    "\n",
    "  def run_custom_epoch(self):\n",
    "      r\"\"\"Run a training epoch, update history, and perform gradient descent.\"\"\"\n",
    "      self.custom_epoch('train')\n",
    "  def _update_best(self, key):\n",
    "        \"\"\"Update ``self.lowest_loss`` and ``self.best_nets``\n",
    "        if current training/validation loss is lower than ``self.lowest_loss``\n",
    "        \"\"\"\n",
    "        current_loss = self.metrics_history['r2_loss'][-1]\n",
    "        if (self.lowest_loss is None) or current_loss < self.lowest_loss:\n",
    "            self.lowest_loss = current_loss\n",
    "            self.best_nets = deepcopy(self.nets)\n",
    "\n",
    "  def fit(self, max_epochs, callbacks=(), tqdm_file='default', **kwargs):\n",
    "      r\"\"\"Run multiple epochs of training and validation, update best loss at the end of each epoch.\n",
    "\n",
    "      If ``callbacks`` is passed, callbacks are run, one at a time,\n",
    "      after training, validating and updating best model.\n",
    "\n",
    "      :param max_epochs: Number of epochs to run.\n",
    "      :type max_epochs: int\n",
    "      :param callbacks:\n",
    "          A list of callback functions.\n",
    "          Each function should accept the ``solver`` instance itself as its **only** argument.\n",
    "      :rtype callbacks: list[callable]\n",
    "      :param tqdm_file:\n",
    "          File to write tqdm progress bar. If set to None, tqdm is not used at all.\n",
    "          Defaults to ``sys.stderr``.\n",
    "      :type tqdm_file: io.StringIO or _io.TextIOWrapper\n",
    "\n",
    "      .. note::\n",
    "          1. This method does not return solution, which is done in the ``.get_solution()`` method.\n",
    "          2. A callback ``cb(solver)`` can set ``solver._stop_training`` to True to perform early stopping.\n",
    "      \"\"\"\n",
    "      self._stop_training = False\n",
    "      self._max_local_epoch = max_epochs\n",
    "\n",
    "      self.callbacks = callbacks\n",
    "\n",
    "      monitor = kwargs.pop('monitor', None)\n",
    "      if monitor:\n",
    "          warnings.warn(\"Passing `monitor` is deprecated, \"\n",
    "                        \"use a MonitorCallback and pass a list of callbacks instead\")\n",
    "          callbacks = [monitor.to_callback()] + list(callbacks)\n",
    "      if kwargs:\n",
    "          raise ValueError(f'Unknown keyword argument(s): {list(kwargs.keys())}')  # pragma: no cover\n",
    "\n",
    "      flag=False\n",
    "      if str(tqdm_file) == 'default':\n",
    "          bar = tqdm(\n",
    "              total = max_epochs,\n",
    "              desc='Training Progress',\n",
    "              colour='blue',\n",
    "              dynamic_ncols=True,\n",
    "          )\n",
    "      elif tqdm_file is not None:\n",
    "          bar = tqdm_file\n",
    "      else:\n",
    "          flag=True\n",
    "\n",
    "\n",
    "\n",
    "      for local_epoch in range(max_epochs):\n",
    "            #stop training if self._stop_training is set to True by a callback\n",
    "          if self._stop_training:\n",
    "              break\n",
    "\n",
    "          # register local epoch (starting from 1 instead of 0) so it can be accessed by callbacks\n",
    "          self.local_epoch = local_epoch + 1\n",
    "          #self.run_train_epoch()\n",
    "          self.run_custom_epoch()\n",
    "          self.run_valid_epoch()\n",
    "          for cb in callbacks:\n",
    "              cb(self)\n",
    "          if not flag:\n",
    "              bar.update(1)\n",
    "\n",
    "  def additional_loss(self,r,f,x, head):\n",
    "        g_det = 0.0\n",
    "        der_g_det = 0.0\n",
    "        flat_metric = 1.0 * len(self.nets)*0.0\n",
    "        t = torch.linspace(t_min,t_max,30,requires_grad=True)\n",
    "        a = torch.linspace(a_min,a_max,25,requires_grad=True)\n",
    "        T,A = torch.meshgrid(t,a,indexing = 'ij')\n",
    "        g_MAT = torch.ones_like(T)\n",
    "        g_det = torch.ones_like(T)\n",
    "        if head == self.n_heads-1 and self.global_epoch%100 == 0 and self.TL:\n",
    "            for f in range(2):\n",
    "\n",
    "\n",
    "              x = torch.cat([T.reshape(-1,1),A.reshape(-1,1)],dim = 1)  # t and a #\n",
    "              H = self.nets[f].H_model(x)\n",
    "              Omega = torch.cat([x,H],dim = 1)\n",
    "\n",
    "              #gmunu = torch.zeros([len(x),len(x)])\n",
    "              partial_omega = []\n",
    "              for j in range(Omega.shape[1]):\n",
    "                partial_omega.append(diff(Omega[:,j],x,shape_check = False))\n",
    "              partial_omega = torch.stack(partial_omega)   # [Coordinate index, sampling , metric dimension] #\n",
    "              partial_omega = torch.transpose(partial_omega,dim0 = 0,dim1 = 1) # [sampling ,coordinate index, metric dimension] #\n",
    "\n",
    "              T,A = torch.meshgrid(t,a,indexing = 'ij')\n",
    "              g_MAT = torch.matmul(torch.transpose(partial_omega,dim0 = 1,dim1 = 2),partial_omega )\n",
    "              g_det += torch.sqrt(torch.linalg.det(g_MAT)).reshape_as(T)\n",
    "            der_g_det = diff(g_det,x,shape_check = False)\n",
    "            self.dV = torch.sum(der_g_det**2) +torch.sum(g_det-flat_metric)  # Indent this line to match the previous one\n",
    "            #print(self.dV)\n",
    "            plain_metric =  self.dV*2e-5  # Indent this line to match the previous one\n",
    "            #print(plain_metric)\n",
    "        else:\n",
    "          plain_metric = torch.tensor([0.0])\n",
    "\n",
    "        self.head_add_loss.append(plain_metric)\n",
    "\n",
    "\n",
    "        if head == self.n_heads-1:\n",
    "            add_loss_epoch = sum(self.head_add_loss)\n",
    "            self.head_add_loss = []\n",
    "            if torch.cuda.is_available():\n",
    "                self.metrics_history['add_loss'].append(plain_metric.cpu().detach().numpy())\n",
    "            else:\n",
    "                self.metrics_history['add_loss'].append(plain_metric.detach().numpy())\n",
    "        #print(plain_metric)\n",
    "        return plain_metric"
   ]
  },
  {
   "cell_type": "code",
   "execution_count": 6,
   "id": "qcoroVNKwjA8",
   "metadata": {
    "executionInfo": {
     "elapsed": 3,
     "status": "ok",
     "timestamp": 1721741122882,
     "user": {
      "displayName": "Pedro Tarancón Álvarez",
      "userId": "03364916759729974170"
     },
     "user_tz": -120
    },
    "id": "qcoroVNKwjA8"
   },
   "outputs": [],
   "source": [
    "def save_nets(path,nets,optim,solver):\n",
    "  H_state = []\n",
    "  head_state = []\n",
    "  for i in range(len(nets[:,0])):\n",
    "    H_state.append(nets[i,0].H_model.state_dict())\n",
    "    for j in range(n_heads):\n",
    "      head_state.append(nets[i,j].head_model.state_dict())\n",
    "  optim_state = optim.state_dict()\n",
    "  global_epoch = solver.global_epoch\n",
    "  loss = solver.metrics_history['train_loss']\n",
    "  torch.save({'H_state':H_state,'head_state':head_state,'optim_state':optim_state,'global_epoch':global_epoch,'loss':loss} ,path)\n",
    "def load_nets(path,nets,optim,solver):\n",
    "  master_dict = torch.load(path)\n",
    "  H_state = master_dict['H_state']\n",
    "  head_state = master_dict['head_state']\n",
    "  optim_state = master_dict['optim_state']\n",
    "  loss = master_dict['loss']\n",
    "  global_epoch = master_dict['global_epoch']\n",
    "  #solver.global_epoch = global_epoch\n",
    "  solver.metrics_history['train_loss'] = loss\n",
    "  for i in range(len(nets[:,0])):\n",
    "    nets[i,0].H_model.load_state_dict(H_state[i])\n",
    "    #for j in range(n_heads):\n",
    "     # nets[i,j].head_model.load_state_dict(head_state[i])\n",
    "  #optim.load_state_dict(optim_state)"
   ]
  },
  {
   "cell_type": "code",
   "execution_count": 7,
   "id": "sl30EP1DMUoT",
   "metadata": {
    "executionInfo": {
     "elapsed": 3,
     "status": "ok",
     "timestamp": 1721741122882,
     "user": {
      "displayName": "Pedro Tarancón Álvarez",
      "userId": "03364916759729974170"
     },
     "user_tz": -120
    },
    "id": "sl30EP1DMUoT"
   },
   "outputs": [],
   "source": [
    "# Define the function to get the exact solution\n",
    "def f(t,a):\n",
    "    # Calculate the expression components\n",
    "    sqrt_term = vec_sqrt(-4 + a**2)\n",
    "    exp_term = vec_exp(-((a * t) / 2))\n",
    "    cosh_term = vec_cosh(1/2 * sqrt_term * t)\n",
    "    sinh_term = vec_sinh(1/2 * sqrt_term * t)\n",
    "\n",
    "    # Combine the components to get the final expression\n",
    "    result = exp_term * (cosh_term + (a * sinh_term) / sqrt_term)\n",
    "\n",
    "    return result"
   ]
  },
  {
   "cell_type": "code",
   "execution_count": 8,
   "id": "IG5QQoAgMUoT",
   "metadata": {
    "colab": {
     "base_uri": "https://localhost:8080/"
    },
    "executionInfo": {
     "elapsed": 2193,
     "status": "ok",
     "timestamp": 1721656284809,
     "user": {
      "displayName": "Pedro Tarancón Álvarez",
      "userId": "03364916759729974170"
     },
     "user_tz": -120
    },
    "id": "IG5QQoAgMUoT",
    "outputId": "ae5a7a84-1e1e-4946-ec93-c0d12a5b27a2"
   },
   "outputs": [
    {
     "name": "stdout",
     "output_type": "stream",
     "text": [
      "Equations dictionary generated\n",
      "{'equations_0': <function generate_equations.<locals>.make_equations.<locals>.eq at 0x114b05c60>, 'equations_1': <function generate_equations.<locals>.make_equations.<locals>.eq at 0x14761d800>, 'equations_2': <function generate_equations.<locals>.make_equations.<locals>.eq at 0x140885580>}\n",
      "Equation list ready\n",
      "(2, 3)\n"
     ]
    }
   ],
   "source": [
    "# Initialize t_min, t_max, a_min and a_max\n",
    "\n",
    "rho = 10\n",
    "\n",
    "t_min = 0.0\n",
    "t_max = 1\n",
    "\n",
    "a_min = 0.0\n",
    "a_max = 1.5\n",
    "\n",
    "a_list = np.linspace(a_min,a_max,3)\n",
    "n_heads = int(len(a_list))\n",
    "\n",
    "# Create the body and the nets #\n",
    "H = [FCNN(n_input_units=2, hidden_units=[64,64,64], n_output_units = 32) for _ in range(2)]\n",
    "\n",
    "heads = [[FCNN(n_input_units=64, hidden_units=[64,32], n_output_units = 1) for _ in range(n_heads)]for _ in range(len(H))]\n",
    "\n",
    "nets = np.ones([len(H),n_heads],dtype=nn.Module) # i -> equation, j -> head #\n",
    "for i in range(len(H)):\n",
    "    #print(i)\n",
    "    for j in range(n_heads):\n",
    "        nets[i,j] = NET_FAN(H[i],heads[i][j])\n",
    "\n",
    "# Create the equations #\n",
    "eq_dict = {}\n",
    "eq_dict = generate_equations(n_heads = n_heads)\n",
    "#print(self.eq_dict)\n",
    "equation_list = []\n",
    "for head in range(n_heads):\n",
    "    equations = eq_dict[f'equations_{head}']\n",
    "    #print(equations)\n",
    "    equation_list.append(equations)\n",
    "\n",
    "print('Equation list ready')\n",
    "\n",
    "print(nets.shape)\n",
    "\n",
    "#gen = Generator1D(48,t_min,t_max,'equally-spaced-noisy')\n",
    "\n",
    "adam = torch.optim.Adam(OrderedSet([ p for q in range(n_heads) for net in list(nets[:,q])\n",
    "                                    for p in net.parameters()]), lr=1e-3,amsgrad=True)\n",
    "\n",
    "scheduler = torch.optim.lr_scheduler.StepLR(adam, step_size=2500, gamma=0.99)\n",
    "scheduler_cb = DoSchedulerStep(scheduler=scheduler)\n"
   ]
  },
  {
   "cell_type": "code",
   "execution_count": 9,
   "id": "x5UaGP7xMUoT",
   "metadata": {
    "colab": {
     "base_uri": "https://localhost:8080/"
    },
    "executionInfo": {
     "elapsed": 3,
     "status": "ok",
     "timestamp": 1721230245143,
     "user": {
      "displayName": "Pedro Tarancón Álvarez",
      "userId": "03364916759729974170"
     },
     "user_tz": -120
    },
    "id": "x5UaGP7xMUoT",
    "outputId": "ccea7ba1-22f0-403a-b1e5-570f6adec787"
   },
   "outputs": [
    {
     "name": "stdout",
     "output_type": "stream",
     "text": [
      "head 0\n",
      "Inside solver __init()__: <function generate_equations.<locals>.make_equations.<locals>.eq at 0x114b05c60>\n",
      "head 1\n",
      "Inside solver __init()__: <function generate_equations.<locals>.make_equations.<locals>.eq at 0x14761d800>\n",
      "head 2\n",
      "Inside solver __init()__: <function generate_equations.<locals>.make_equations.<locals>.eq at 0x140885580>\n"
     ]
    }
   ],
   "source": [
    "# Define the initial conditions\n",
    "\n",
    "init_val = [BundleIVP(t_min,1),\n",
    "            BundleIVP(t_min,0)]\n",
    "\n",
    "# Initialize the solver\n",
    "solver = Solver1D_MH(a_list = a_list,\n",
    "    all_nets = nets,\n",
    "    t_sampling = 64,\n",
    "    optimizer = adam,\n",
    "    ode_system =  equation_list,\n",
    "    conditions = init_val,\n",
    "    t_min = t_min,\n",
    "    t_max = t_max,\n",
    "    flatten = False,\n",
    "    n_batches_valid = 0\n",
    "   #train_generator=gen,\n",
    ")"
   ]
  },
  {
   "cell_type": "code",
   "execution_count": 10,
   "id": "dSdS3T6lSBeZ",
   "metadata": {
    "colab": {
     "base_uri": "https://localhost:8080/"
    },
    "executionInfo": {
     "elapsed": 2,
     "status": "ok",
     "timestamp": 1721230246327,
     "user": {
      "displayName": "Pedro Tarancón Álvarez",
      "userId": "03364916759729974170"
     },
     "user_tz": -120
    },
    "id": "dSdS3T6lSBeZ",
    "outputId": "e14e40bf-ebf3-4026-e6d4-a48f243af949"
   },
   "outputs": [
    {
     "data": {
      "text/plain": [
       "[FCNN(\n",
       "   (NN): Sequential(\n",
       "     (0): Linear(in_features=1, out_features=32, bias=True)\n",
       "     (1): Tanh()\n",
       "     (2): Linear(in_features=32, out_features=32, bias=True)\n",
       "     (3): Tanh()\n",
       "     (4): Linear(in_features=32, out_features=1, bias=True)\n",
       "   )\n",
       " ),\n",
       " FCNN(\n",
       "   (NN): Sequential(\n",
       "     (0): Linear(in_features=1, out_features=32, bias=True)\n",
       "     (1): Tanh()\n",
       "     (2): Linear(in_features=32, out_features=32, bias=True)\n",
       "     (3): Tanh()\n",
       "     (4): Linear(in_features=32, out_features=1, bias=True)\n",
       "   )\n",
       " )]"
      ]
     },
     "execution_count": 10,
     "metadata": {},
     "output_type": "execute_result"
    }
   ],
   "source": [
    "solver.nets"
   ]
  },
  {
   "cell_type": "code",
   "execution_count": null,
   "id": "ZTtLcgM1MUoU",
   "metadata": {
    "colab": {
     "base_uri": "https://localhost:8080/",
     "height": 49
    },
    "executionInfo": {
     "elapsed": 102227,
     "status": "ok",
     "timestamp": 1721660589114,
     "user": {
      "displayName": "Pedro Tarancón Álvarez",
      "userId": "03364916759729974170"
     },
     "user_tz": -120
    },
    "id": "ZTtLcgM1MUoU",
    "outputId": "8f5347a5-a660-4f63-ce92-978f05ea1f69",
    "scrolled": false
   },
   "outputs": [
    {
     "data": {
      "application/vnd.jupyter.widget-view+json": {
       "model_id": "34fe4e698d1e46e6ad97423bd9baa47d",
       "version_major": 2,
       "version_minor": 0
      },
      "text/plain": [
       "Training Progress:   0%|                                | 0/900 [00:00<?, ?it/s]"
      ]
     },
     "metadata": {},
     "output_type": "display_data"
    }
   ],
   "source": [
    "#torch.autograd.set_detect_anomaly(True)\n",
    "# Fit the solver\n",
    "solver.fit(900,\n",
    "               callbacks = [scheduler_cb])"
   ]
  },
  {
   "cell_type": "code",
   "execution_count": null,
   "id": "eq6s9o1QhovA",
   "metadata": {
    "colab": {
     "base_uri": "https://localhost:8080/"
    },
    "executionInfo": {
     "elapsed": 12,
     "status": "ok",
     "timestamp": 1721231949955,
     "user": {
      "displayName": "Pedro Tarancón Álvarez",
      "userId": "03364916759729974170"
     },
     "user_tz": -120
    },
    "id": "eq6s9o1QhovA",
    "outputId": "0bfe8628-26c7-437f-ca56-f3f9146f89d6"
   },
   "outputs": [],
   "source": [
    "for g in adam.param_groups:\n",
    "  print(g['lr'])\n",
    "  #g['lr'] = 6e-5\n",
    "    "
   ]
  },
  {
   "cell_type": "code",
   "execution_count": null,
   "id": "6gUY3NBNMUoU",
   "metadata": {
    "colab": {
     "base_uri": "https://localhost:8080/",
     "height": 812
    },
    "executionInfo": {
     "elapsed": 1334,
     "status": "ok",
     "timestamp": 1721231951287,
     "user": {
      "displayName": "Pedro Tarancón Álvarez",
      "userId": "03364916759729974170"
     },
     "user_tz": -120
    },
    "id": "6gUY3NBNMUoU",
    "outputId": "faf3853e-30ef-4173-c6e7-9fd86556919b"
   },
   "outputs": [],
   "source": [
    "## Plot training history\n",
    "history = solver.metrics_history\n",
    "plt.plot(history['train_loss'], label = 'Train')\n",
    "#print(history['add_loss'])\n",
    "#plt.plot(history['add_loss'], label = 'Add')\n",
    "\n",
    "\n",
    "#\n",
    "#if len(history['valid_loss']) != 0:\n",
    "#    plt.plot(history['valid_loss'], label = 'Validation')\n",
    "\n",
    "# Add axis labels, title and legend for clarity\n",
    "plt.title('Loss plot')\n",
    "plt.xlabel('epochs')\n",
    "plt.ylabel('Loss')\n",
    "plt.yscale('log')\n",
    "plt.grid(True)\n",
    "plt.legend(loc='upper center', bbox_to_anchor=(0.5, -0.15), ncol=1)\n",
    "plt.savefig('loss_body_Fants.pdf')\n",
    "plt.show()"
   ]
  },
  {
   "cell_type": "code",
   "execution_count": 14,
   "id": "QQ8dHQ7oMUoU",
   "metadata": {
    "id": "QQ8dHQ7oMUoU"
   },
   "outputs": [],
   "source": [
    "t_vals = torch.tensor(np.linspace(t_min, t_max, 100)).requires_grad_(True)\n",
    "#a_vals = np.linspace(0,2,100)"
   ]
  },
  {
   "cell_type": "code",
   "execution_count": 15,
   "id": "OOc8gkGNMUoU",
   "metadata": {
    "colab": {
     "base_uri": "https://localhost:8080/",
     "height": 680
    },
    "executionInfo": {
     "elapsed": 655,
     "status": "ok",
     "timestamp": 1721231951939,
     "user": {
      "displayName": "Pedro Tarancón Álvarez",
      "userId": "03364916759729974170"
     },
     "user_tz": -120
    },
    "id": "OOc8gkGNMUoU",
    "outputId": "62e8b32f-2a2f-49a0-fb4a-869f21696ab7",
    "scrolled": false
   },
   "outputs": [
    {
     "name": "stderr",
     "output_type": "stream",
     "text": [
      "/Users/pedro/anaconda3/lib/python3.11/site-packages/torch/utils/_device.py:77: UserWarning: To copy construct from a tensor, it is recommended to use sourceTensor.clone().detach() or sourceTensor.clone().detach().requires_grad_(True), rather than torch.tensor(sourceTensor).\n",
      "  return func(*args, **kwargs)\n"
     ]
    },
    {
     "data": {
      "image/png": "[encoded data removed]",
      "text/plain": [
       "<Figure size 800x800 with 1 Axes>"
      ]
     },
     "metadata": {},
     "output_type": "display_data"
    }
   ],
   "source": [
    "# Plot the variations of solutions for 5 values between a_min and a_max.\n",
    "# Define the Van der Pol oscillator equations\n",
    "\n",
    "# Parameters\n",
    "#mu = 2.0  # Damping parameter\n",
    "t0 = 0.0  # Initial time\n",
    "t_end = 1  # End time\n",
    "dt = 0.0001  # Time step\n",
    "n_steps = int((t_end - t0) / dt)  # Number of time steps\n",
    "\n",
    "# Initial conditions\n",
    "x0 = 1.0\n",
    "y0 = 0.0\n",
    "state = np.array([x0, y0])\n",
    "\n",
    "# Time array\n",
    "t = np.linspace(t0, t_end, n_steps)\n",
    "\n",
    "# Arrays to store the solutions\n",
    "x_sol = np.zeros(n_steps)\n",
    "y_sol = np.zeros(n_steps)\n",
    "x_sol[0] = x0\n",
    "y_sol[0] = y0\n",
    "\n",
    "# Time integration using RK4\n",
    "\n",
    "\n",
    "for head in range(solver.n_heads):\n",
    "    solver.best_nets = nets[:,head]\n",
    "    solution = solver.get_solution(best=True)\n",
    "    a = torch.tensor(a_list[head]*torch.ones_like(t_vals).requires_grad_(True))\n",
    "    y1 = solution(t_vals,a)[0]\n",
    "    plt.plot(t_vals.detach().numpy(),y1.detach().numpy(),label = 'a = ' + str(a_list[head]))\n",
    "    # Numerical solver #\n",
    "    # Initial conditions\n",
    "    x0 = 1.0\n",
    "    y0 = 0.0\n",
    "    state = np.array([x0, y0])\n",
    "\n",
    "    # Time array\n",
    "    t = np.linspace(t0, t_end, n_steps)\n",
    "\n",
    "    # Arrays to store the solutions\n",
    "    x_sol = np.zeros(n_steps)\n",
    "    y_sol = np.zeros(n_steps)\n",
    "    x_sol[0] = x0\n",
    "    y_sol[0] = y0\n",
    "    for i in range(1, n_steps):\n",
    "        state = rk4_step(van_der_pol, t[i-1], state, dt, a[0])\n",
    "        x_sol[i] = state[0]\n",
    "        y_sol[i] = state[1]\n",
    "    plt.plot(t, x_sol, label='x(t)',linestyle = 'dashed', linewidth = 3)\n",
    "plt.legend()\n",
    "plt.savefig('MH_solutions_Fants.pdf')\n",
    "plt.show()"
   ]
  },
  {
   "cell_type": "code",
   "execution_count": 242,
   "id": "28JcBUm9PBah",
   "metadata": {
    "id": "28JcBUm9PBah"
   },
   "outputs": [],
   "source": [
    "# Try to compute the 2x2 metric of this problem #"
   ]
  },
  {
   "cell_type": "markdown",
   "id": "xh-7VkkqKR1u",
   "metadata": {
    "id": "xh-7VkkqKR1u"
   },
   "source": [
    "The idea that we got was the following. Imagine that we are training on a set of $t \\in (0,1)$, and a set of the bundle parameter $ a \\in (0,2)$. It is important that we are training a multihead, which ouput of the body can be expressed as $\\vec{H}(t,a)$. Then, we can construct a geometry given by the following coordinates:\n",
    "$$\\hat{\\Omega} = (t,a,\\vec{H}(t,a))$$\n",
    "The metric can be computed as follows\n",
    "$$g_{\\mu\\nu} \\,=\\, \\partial_\\mu \\hat{\\Omega} \\cdot\\partial_\\nu \\hat{\\Omega}$$"
   ]
  },
  {
   "cell_type": "code",
   "execution_count": 16,
   "id": "7P07MI8dKQwR",
   "metadata": {
    "colab": {
     "base_uri": "https://localhost:8080/"
    },
    "executionInfo": {
     "elapsed": 1014,
     "status": "ok",
     "timestamp": 1721231952949,
     "user": {
      "displayName": "Pedro Tarancón Álvarez",
      "userId": "03364916759729974170"
     },
     "user_tz": -120
    },
    "id": "7P07MI8dKQwR",
    "outputId": "8c0b6376-39a7-4082-ba28-b167feaf4dfc"
   },
   "outputs": [
    {
     "name": "stdout",
     "output_type": "stream",
     "text": [
      "torch.Size([5600, 32]) torch.Size([5600, 2])\n",
      "0.13448715209960938\n"
     ]
    }
   ],
   "source": [
    "import time\n",
    "import copy\n",
    "from neurodiffeq import diff\n",
    "\n",
    "start = time.time()\n",
    "\n",
    "t = torch.linspace(t_min,t_max,80,requires_grad=True)\n",
    "a = torch.linspace(a_min,a_max,70,requires_grad=True)\n",
    "T,A = torch.meshgrid(t,a,indexing = 'ij')\n",
    "g_MAT = torch.ones_like(T)\n",
    "g_det = torch.ones_like(T)\n",
    "\n",
    "x = torch.cat([T.reshape(-1,1),A.reshape(-1,1)],dim = 1)  # t and a #\n",
    "H = solver.best_nets[0].H_model(x)\n",
    "print(H.shape,x.shape)\n",
    "Omega = torch.cat([x,H],dim = 1)\n",
    "\n",
    "#gmunu = torch.zeros([len(x),len(x)])\n",
    "partial_omega = []\n",
    "for j in range(Omega.shape[1]):\n",
    "  partial_omega.append(diff(Omega[:,j],x,shape_check = False))\n",
    "partial_omega = torch.stack(partial_omega)   # [Coordinate index, sampling , metric dimension] #\n",
    "partial_omega = torch.transpose(partial_omega,dim0 = 0,dim1 = 1) # [sampling ,coordinate index, metric dimension] #\n",
    "\n",
    "T,A = torch.meshgrid(t,a,indexing = 'ij')\n",
    "g_MAT = torch.matmul(torch.transpose(partial_omega,dim0 = 1,dim1 = 2),partial_omega )\n",
    "g_det = torch.sqrt(torch.linalg.det(g_MAT)).reshape_as(T)\n",
    "end = time.time()\n",
    "print(end - start)"
   ]
  },
  {
   "cell_type": "code",
   "execution_count": 17,
   "id": "xCfRRemBPvAI",
   "metadata": {
    "colab": {
     "base_uri": "https://localhost:8080/",
     "height": 743
    },
    "executionInfo": {
     "elapsed": 1166,
     "status": "ok",
     "timestamp": 1721231954113,
     "user": {
      "displayName": "Pedro Tarancón Álvarez",
      "userId": "03364916759729974170"
     },
     "user_tz": -120
    },
    "id": "xCfRRemBPvAI",
    "outputId": "a45ed32f-8a76-45f5-d8bd-2ddc66915b63"
   },
   "outputs": [
    {
     "data": {
      "image/png": "[encoded data removed]",
      "text/plain": [
       "<Figure size 800x800 with 2 Axes>"
      ]
     },
     "metadata": {},
     "output_type": "display_data"
    }
   ],
   "source": [
    "import matplotlib.colors as colors\n",
    "pos = 4\n",
    "plt.pcolormesh(T.detach().numpy()[pos:,::],A.detach().numpy()[pos:,::],g_det.detach().numpy()[pos:,::],cmap = 'rainbow')\n",
    "plt.colorbar()\n",
    "plt.title('$\\sqrt{|g|}$')\n",
    "plt.xlabel('t')\n",
    "plt.ylabel('a')\n",
    "plt.savefig('metric_x(t).pdf')\n",
    "plt.show()"
   ]
  },
  {
   "cell_type": "code",
   "execution_count": 18,
   "id": "P-uCo-71YJqU",
   "metadata": {
    "colab": {
     "base_uri": "https://localhost:8080/"
    },
    "executionInfo": {
     "elapsed": 780,
     "status": "ok",
     "timestamp": 1721231954889,
     "user": {
      "displayName": "Pedro Tarancón Álvarez",
      "userId": "03364916759729974170"
     },
     "user_tz": -120
    },
    "id": "P-uCo-71YJqU",
    "outputId": "429af89b-80a5-4bf1-8d03-07b9998bd8f3"
   },
   "outputs": [
    {
     "name": "stdout",
     "output_type": "stream",
     "text": [
      "torch.Size([5600, 32]) torch.Size([5600, 2])\n",
      "0.14435505867004395\n"
     ]
    }
   ],
   "source": [
    "import time\n",
    "import copy\n",
    "from neurodiffeq import diff\n",
    "\n",
    "start = time.time()\n",
    "\n",
    "t = torch.linspace(t_min,t_max,80,requires_grad=True)\n",
    "a = torch.linspace(a_min,a_max,70,requires_grad=True)\n",
    "T,A = torch.meshgrid(t,a,indexing = 'ij')\n",
    "g_MAT = torch.ones_like(T)\n",
    "g_det = torch.ones_like(T)\n",
    "\n",
    "x = torch.cat([T.reshape(-1,1),A.reshape(-1,1)],dim = 1)  # t and a #\n",
    "H = solver.best_nets[1].H_model(x)\n",
    "print(H.shape,x.shape)\n",
    "Omega = torch.cat([x,H],dim = 1)\n",
    "\n",
    "#gmunu = torch.zeros([len(x),len(x)])\n",
    "partial_omega = []\n",
    "for j in range(Omega.shape[1]):\n",
    "  partial_omega.append(diff(Omega[:,j],x,shape_check = False))\n",
    "partial_omega = torch.stack(partial_omega)   # [Coordinate index, sampling , metric dimension] #\n",
    "partial_omega = torch.transpose(partial_omega,dim0 = 0,dim1 = 1) # [sampling ,coordinate index, metric dimension] #\n",
    "\n",
    "T,A = torch.meshgrid(t,a,indexing = 'ij')\n",
    "g_MAT = torch.matmul(torch.transpose(partial_omega,dim0 = 1,dim1 = 2),partial_omega )\n",
    "g_det = torch.sqrt(torch.linalg.det(g_MAT)).reshape_as(T)\n",
    "end = time.time()\n",
    "print(end - start)"
   ]
  },
  {
   "cell_type": "code",
   "execution_count": 19,
   "id": "wM7RPB1fYMLt",
   "metadata": {
    "colab": {
     "base_uri": "https://localhost:8080/",
     "height": 743
    },
    "executionInfo": {
     "elapsed": 1006,
     "status": "ok",
     "timestamp": 1721231955893,
     "user": {
      "displayName": "Pedro Tarancón Álvarez",
      "userId": "03364916759729974170"
     },
     "user_tz": -120
    },
    "id": "wM7RPB1fYMLt",
    "outputId": "e7c2b5aa-0e28-4879-f081-ab2c1b74b26b"
   },
   "outputs": [
    {
     "data": {
      "image/png": "[encoded data removed]",
      "text/plain": [
       "<Figure size 800x800 with 2 Axes>"
      ]
     },
     "metadata": {},
     "output_type": "display_data"
    }
   ],
   "source": [
    "import matplotlib.colors as colors\n",
    "pos = 10\n",
    "plt.pcolormesh(T.detach().numpy()[pos:,::],A.detach().numpy()[pos:,::],g_det.detach().numpy()[pos:,::],cmap = 'rainbow')\n",
    "plt.colorbar()\n",
    "plt.title('$\\sqrt{|g|}$')\n",
    "plt.xlabel('t')\n",
    "plt.ylabel('a')\n",
    "plt.savefig('metric_y(t).pdf')\n",
    "plt.show()"
   ]
  },
  {
   "cell_type": "code",
   "execution_count": null,
   "id": "aWA3FMbLcV2d",
   "metadata": {
    "id": "aWA3FMbLcV2d"
   },
   "outputs": [],
   "source": [
    "save_nets('10k',nets,adam,solver)"
   ]
  },
  {
   "cell_type": "markdown",
   "id": "fgYxhfhuzVaD",
   "metadata": {
    "id": "fgYxhfhuzVaD"
   },
   "source": [
    "# TRANSFER LEARNING"
   ]
  },
  {
   "cell_type": "code",
   "execution_count": 9,
   "id": "tg98_kNgzWxv",
   "metadata": {
    "colab": {
     "base_uri": "https://localhost:8080/"
    },
    "executionInfo": {
     "elapsed": 3371,
     "status": "ok",
     "timestamp": 1721741126249,
     "user": {
      "displayName": "Pedro Tarancón Álvarez",
      "userId": "03364916759729974170"
     },
     "user_tz": -120
    },
    "id": "tg98_kNgzWxv",
    "outputId": "96af0da4-87d1-4ac2-eb92-c20a9a5d6676"
   },
   "outputs": [
    {
     "name": "stdout",
     "output_type": "stream",
     "text": [
      "Equations dictionary generated\n",
      "{'equations_0': <function generate_equations.<locals>.make_equations.<locals>.eq at 0x7fb5b47f2e60>}\n",
      "Equation list ready\n",
      "(2, 1)\n",
      "head 0\n",
      "Inside solver __init()__: <function generate_equations.<locals>.make_equations.<locals>.eq at 0x7fb5b47f2e60>\n"
     ]
    }
   ],
   "source": [
    "# Initialize t_min, t_max, a_min and a_max\n",
    "\n",
    "t_min = 0.0\n",
    "t_max = 3*np.pi\n",
    "\n",
    "a_min = 0.0\n",
    "a_max = 1.2\n",
    "\n",
    "a_list = [1.6]\n",
    "\n",
    "#a_list = np.linspace(a_min,a_max,9)\n",
    "n_heads = 1\n",
    "\n",
    "# Create the body and the nets #\n",
    "H_NEW = [FCNN(n_input_units=2, hidden_units=[64,64,64], n_output_units = 64) for _ in range(2)]\n",
    "\n",
    "heads_NEW = [[FCNN(n_input_units=64, hidden_units=[32,16], n_output_units = 1) for _ in range(n_heads)]for _ in range(len(H_NEW))]\n",
    "\n",
    "nets = np.ones([len(H_NEW),n_heads],dtype=nn.Module) # i -> equation, j -> head #\n",
    "for i in range(len(H_NEW)):\n",
    "    #print(i)\n",
    "    for j in range(n_heads):\n",
    "        nets[i,j] = NET_FREEZE(H_NEW[i],heads_NEW[i][j])\n",
    "\n",
    "# Create the equations #\n",
    "eq_dict = {}\n",
    "eq_dict = generate_equations(n_heads = n_heads)\n",
    "#print(self.eq_dict)\n",
    "equation_list = []\n",
    "for head in range(n_heads):\n",
    "    equations = eq_dict[f'equations_{head}']\n",
    "    #print(equations)\n",
    "    equation_list.append(equations)\n",
    "\n",
    "print('Equation list ready')\n",
    "\n",
    "print(nets.shape)\n",
    "\n",
    "#gen = Generator1D(48,t_min,t_max,'equally-spaced-noisy')\n",
    "\n",
    "adam = torch.optim.Adam(OrderedSet([ p for q in range(n_heads) for net in list(nets[:,q]) for p in net.parameters()]), lr=2e-3)\n",
    "\n",
    "scheduler = torch.optim.lr_scheduler.StepLR(adam, step_size=5000, gamma=0.95)\n",
    "scheduler_cb = DoSchedulerStep(scheduler=scheduler)\n",
    "\n",
    "# Define the initial conditions\n",
    "\n",
    "init_val = [BundleIVP(t_min,1),\n",
    "            BundleIVP(t_min,0)]\n",
    "\n",
    "# Initialize the solver\n",
    "solver = Solver1D_MH(a_list = a_list,\n",
    "    all_nets = nets,\n",
    "    t_sampling = 64,\n",
    "    optimizer = adam,\n",
    "    ode_system =  equation_list,\n",
    "    conditions = init_val,\n",
    "    t_min = t_min,\n",
    "    t_max = t_max,\n",
    "    flatten = False,\n",
    "    n_batches_valid = 0\n",
    "   #train_generator=gen,\n",
    ")\n",
    "\n",
    "# LOAD THE DATA #\n",
    "load_nets('10k_flat',nets = nets, optim = adam,solver = solver)"
   ]
  },
  {
   "cell_type": "code",
   "execution_count": null,
   "id": "HbzDwfC11BuL",
   "metadata": {
    "colab": {
     "background_save": true,
     "base_uri": "https://localhost:8080/",
     "height": 49
    },
    "id": "HbzDwfC11BuL"
   },
   "outputs": [
    {
     "data": {
      "application/vnd.jupyter.widget-view+json": {
       "model_id": "6c45f55848f54aa6be85521093fea8ea",
       "version_major": 2,
       "version_minor": 0
      },
      "text/plain": [
       "Training Progress:   0%|          | 0/200000 [00:00<?, ?it/s]"
      ]
     },
     "metadata": {},
     "output_type": "display_data"
    }
   ],
   "source": [
    "#torch.autograd.set_detect_anomaly(True)\n",
    "# Fit the solver\n",
    "solver.fit(200000,\n",
    "               callbacks = [scheduler_cb])"
   ]
  },
  {
   "cell_type": "code",
   "execution_count": null,
   "id": "bGFtAomw1vaq",
   "metadata": {
    "colab": {
     "background_save": true
    },
    "id": "bGFtAomw1vaq"
   },
   "outputs": [
    {
     "name": "stdout",
     "output_type": "stream",
     "text": [
      "0.0002570243131302061\n"
     ]
    }
   ],
   "source": [
    "for g in adam.param_groups:\n",
    "  #g['lr'] = 8e-6\n",
    "  print(g['lr'])"
   ]
  },
  {
   "cell_type": "code",
   "execution_count": null,
   "id": "vRBInlXj1qUN",
   "metadata": {
    "colab": {
     "background_save": true
    },
    "id": "vRBInlXj1qUN"
   },
   "outputs": [
    {
     "data": {
      "image/png": "[encoded data removed]",
      "text/plain": [
       "<Figure size 800x800 with 1 Axes>"
      ]
     },
     "metadata": {},
     "output_type": "display_data"
    },
    {
     "data": {
      "image/png": "[encoded data removed]",
      "text/plain": [
       "<Figure size 800x800 with 1 Axes>"
      ]
     },
     "metadata": {},
     "output_type": "display_data"
    }
   ],
   "source": [
    "\n",
    "## Plot training history\n",
    "t_vals = np.linspace(t_min, t_max, 100)\n",
    "history = solver.metrics_history\n",
    "plt.plot(history['train_loss'], label = 'Train')\n",
    "#print(history['add_loss'])\n",
    "#plt.plot(history['add_loss'], label = 'Add')\n",
    "\n",
    "\n",
    "#\n",
    "#if len(history['valid_loss']) != 0:\n",
    "#    plt.plot(history['valid_loss'], label = 'Validation')\n",
    "\n",
    "# Add axis labels, title and legend for clarity\n",
    "plt.title('Loss plot')\n",
    "plt.xlabel('epochs')\n",
    "plt.ylabel('Loss')\n",
    "plt.yscale('log')\n",
    "plt.grid(True)\n",
    "plt.legend(loc='upper center', bbox_to_anchor=(0.5, -0.15), ncol=1)\n",
    "plt.savefig('loss_transfer_non_flat.pdf')\n",
    "plt.show()\n",
    "\n",
    "# Plot the variations of solutions for 5 values between a_min and a_max.\n",
    "for head in range(solver.n_heads):\n",
    "  solver.best_nets = nets[:,head]\n",
    "  solution = solver.get_solution(best=True)\n",
    "  a = a_list[head]*np.ones_like(t_vals)\n",
    "  y1 = solution(t_vals,a)[0]\n",
    "  plt.plot(t_vals,y1.cpu().detach().numpy(),label = 'a = ' + str(a_list[head]))\n",
    "plt.legend()\n",
    "plt.show()"
   ]
  },
  {
   "cell_type": "markdown",
   "id": "0AD9oqCyDn0r",
   "metadata": {
    "id": "0AD9oqCyDn0r"
   },
   "source": [
    "# Get the numerica solution"
   ]
  },
  {
   "cell_type": "code",
   "execution_count": null,
   "id": "Hk3IF6xWDnLY",
   "metadata": {
    "colab": {
     "background_save": true
    },
    "id": "Hk3IF6xWDnLY"
   },
   "outputs": [
    {
     "data": {
      "image/png": "[encoded data removed]",
      "text/plain": [
       "<Figure size 1200x500 with 2 Axes>"
      ]
     },
     "metadata": {},
     "output_type": "display_data"
    }
   ],
   "source": [
    "import numpy as np\n",
    "import matplotlib.pyplot as plt\n",
    "\n",
    "# Define the Van der Pol oscillator equations\n",
    "def van_der_pol(t, state, mu):\n",
    "    x, y = state\n",
    "    dxdt = y\n",
    "    dydt = mu * (1 - x**2) * y - x\n",
    "    return np.array([dxdt, dydt])\n",
    "\n",
    "# Runge-Kutta 4th order method\n",
    "def rk4_step(func, t, state, dt, mu):\n",
    "    k1 = func(t, state, mu)\n",
    "    k2 = func(t + dt/2, state + dt*k1/2, mu)\n",
    "    k3 = func(t + dt/2, state + dt*k2/2, mu)\n",
    "    k4 = func(t + dt, state + dt*k3, mu)\n",
    "    return state + (dt/6)*(k1 + 2*k2 + 2*k3 + k4)\n",
    "\n",
    "# Parameters\n",
    "mu = 2.0  # Damping parameter\n",
    "t0 = 0.0  # Initial time\n",
    "t_end = 3*np.pi  # End time\n",
    "dt = 0.01  # Time step\n",
    "n_steps = int((t_end - t0) / dt)  # Number of time steps\n",
    "\n",
    "# Initial conditions\n",
    "x0 = 1.0\n",
    "y0 = 0.0\n",
    "state = np.array([x0, y0])\n",
    "\n",
    "# Time array\n",
    "t = np.linspace(t0, t_end, n_steps)\n",
    "\n",
    "# Arrays to store the solutions\n",
    "x_sol = np.zeros(n_steps)\n",
    "y_sol = np.zeros(n_steps)\n",
    "x_sol[0] = x0\n",
    "y_sol[0] = y0\n",
    "\n",
    "# Time integration using RK4\n",
    "for i in range(1, n_steps):\n",
    "    state = rk4_step(van_der_pol, t[i-1], state, dt, mu)\n",
    "    x_sol[i] = state[0]\n",
    "    y_sol[i] = state[1]\n",
    "\n",
    "# Plotting the results\n",
    "plt.figure(figsize=(12, 5))\n",
    "plt.subplot(1, 2, 1)\n",
    "for head in range(solver.n_heads):\n",
    "  solver.best_nets = nets[:,head]\n",
    "  solution = solver.get_solution(best=True)\n",
    "  a = a_list[head]*np.ones_like(t_vals)\n",
    "  y1 = solution(t_vals,a)[0]\n",
    "  y2 = solution(t_vals,a)[1]\n",
    "  plt.plot(t_vals,y1.cpu().detach().numpy(),label = '$x^{NN}(t)$',linewidth = 2)\n",
    "  plt.plot(t_vals,y2.cpu().detach().numpy(),label = '$y^{NN}(t)$',linewidth = 2)\n",
    "plt.plot(t, x_sol, label='x(t)',linestyle = 'dashed', linewidth = 3)\n",
    "plt.plot(t, y_sol, label='y(t)',linestyle = 'dashed', linewidth = 3)\n",
    "plt.xlabel('Time')\n",
    "plt.ylabel('Values')\n",
    "plt.legend()\n",
    "plt.title('Van der Pol Oscillator Time Series')\n",
    "\n",
    "plt.subplot(1, 2, 2)\n",
    "plt.plot(y1.cpu().detach().numpy(),y2.cpu().detach().numpy(),label = 'NN sol.',linewidth = 2)\n",
    "plt.plot(x_sol, y_sol,label = 'Num. sol.',linestyle = 'dashed', linewidth = 3)\n",
    "plt.xlabel('x')\n",
    "plt.ylabel('y')\n",
    "plt.title('Phase Space Plot')\n",
    "plt.legend()\n",
    "\n",
    "plt.tight_layout()\n",
    "plt.savefig('transfer_solution_non_flat.pdf')\n",
    "plt.show()\n"
   ]
  },
  {
   "cell_type": "code",
   "execution_count": null,
   "id": "JcM0Z5op1q9L",
   "metadata": {
    "id": "JcM0Z5op1q9L"
   },
   "outputs": [],
   "source": []
  }
 ],
 "metadata": {
  "accelerator": "GPU",
  "colab": {
   "gpuType": "T4",
   "name": "",
   "version": ""
  },
  "kernelspec": {
   "display_name": "Python 3 (ipykernel)",
   "language": "python",
   "name": "python3"
  },
  "language_info": {
   "codemirror_mode": {
    "name": "ipython",
    "version": 3
   },
   "file_extension": ".py",
   "mimetype": "text/x-python",
   "name": "python",
   "nbconvert_exporter": "python",
   "pygments_lexer": "ipython3",
   "version": "3.11.5"
  },
  "widgets": {
   "application/vnd.jupyter.widget-state+json": {
    "044081ac093d42e6a1cb5da91fcb0bf8": {
     "model_module": "@jupyter-widgets/base",
     "model_module_version": "1.2.0",
     "model_name": "LayoutModel",
     "state": {
      "_model_module": "@jupyter-widgets/base",
      "_model_module_version": "1.2.0",
      "_model_name": "LayoutModel",
      "_view_count": null,
      "_view_module": "@jupyter-widgets/base",
      "_view_module_version": "1.2.0",
      "_view_name": "LayoutView",
      "align_content": null,
      "align_items": null,
      "align_self": null,
      "border": null,
      "bottom": null,
      "display": null,
      "flex": null,
      "flex_flow": null,
      "grid_area": null,
      "grid_auto_columns": null,
      "grid_auto_flow": null,
      "grid_auto_rows": null,
      "grid_column": null,
      "grid_gap": null,
      "grid_row": null,
      "grid_template_areas": null,
      "grid_template_columns": null,
      "grid_template_rows": null,
      "height": null,
      "justify_content": null,
      "justify_items": null,
      "left": null,
      "margin": null,
      "max_height": null,
      "max_width": null,
      "min_height": null,
      "min_width": null,
      "object_fit": null,
      "object_position": null,
      "order": null,
      "overflow": null,
      "overflow_x": null,
      "overflow_y": null,
      "padding": null,
      "right": null,
      "top": null,
      "visibility": null,
      "width": null
     }
    },
    "1bfa7b0213c54faa936ef2931e5ca21d": {
     "model_module": "@jupyter-widgets/controls",
     "model_module_version": "1.5.0",
     "model_name": "FloatProgressModel",
     "state": {
      "_dom_classes": [],
      "_model_module": "@jupyter-widgets/controls",
      "_model_module_version": "1.5.0",
      "_model_name": "FloatProgressModel",
      "_view_count": null,
      "_view_module": "@jupyter-widgets/controls",
      "_view_module_version": "1.5.0",
      "_view_name": "ProgressView",
      "bar_style": "",
      "description": "",
      "description_tooltip": null,
      "layout": "IPY_MODEL_47df003d08f74bf495d2f25eccde9314",
      "max": 10000,
      "min": 0,
      "orientation": "horizontal",
      "style": "IPY_MODEL_66fde11efa8f4129a26af56c710afd64",
      "value": 10000
     }
    },
    "261d77b3c43c4b00a669c858eec57ed8": {
     "model_module": "@jupyter-widgets/controls",
     "model_module_version": "1.5.0",
     "model_name": "DescriptionStyleModel",
     "state": {
      "_model_module": "@jupyter-widgets/controls",
      "_model_module_version": "1.5.0",
      "_model_name": "DescriptionStyleModel",
      "_view_count": null,
      "_view_module": "@jupyter-widgets/base",
      "_view_module_version": "1.2.0",
      "_view_name": "StyleView",
      "description_width": ""
     }
    },
    "3e1bf33e465e4ef9ab8dd66979683456": {
     "model_module": "@jupyter-widgets/controls",
     "model_module_version": "1.5.0",
     "model_name": "HTMLModel",
     "state": {
      "_dom_classes": [],
      "_model_module": "@jupyter-widgets/controls",
      "_model_module_version": "1.5.0",
      "_model_name": "HTMLModel",
      "_view_count": null,
      "_view_module": "@jupyter-widgets/controls",
      "_view_module_version": "1.5.0",
      "_view_name": "HTMLView",
      "description": "",
      "description_tooltip": null,
      "layout": "IPY_MODEL_5a35bde6a16a4a0b80b0ee2ccd8868df",
      "placeholder": "​",
      "style": "IPY_MODEL_60b1e6f90fc040a1bb0914040da5c61b",
      "value": " 176/200000 [00:05&lt;1:28:15, 37.73it/s]"
     }
    },
    "47df003d08f74bf495d2f25eccde9314": {
     "model_module": "@jupyter-widgets/base",
     "model_module_version": "1.2.0",
     "model_name": "LayoutModel",
     "state": {
      "_model_module": "@jupyter-widgets/base",
      "_model_module_version": "1.2.0",
      "_model_name": "LayoutModel",
      "_view_count": null,
      "_view_module": "@jupyter-widgets/base",
      "_view_module_version": "1.2.0",
      "_view_name": "LayoutView",
      "align_content": null,
      "align_items": null,
      "align_self": null,
      "border": null,
      "bottom": null,
      "display": null,
      "flex": "2",
      "flex_flow": null,
      "grid_area": null,
      "grid_auto_columns": null,
      "grid_auto_flow": null,
      "grid_auto_rows": null,
      "grid_column": null,
      "grid_gap": null,
      "grid_row": null,
      "grid_template_areas": null,
      "grid_template_columns": null,
      "grid_template_rows": null,
      "height": null,
      "justify_content": null,
      "justify_items": null,
      "left": null,
      "margin": null,
      "max_height": null,
      "max_width": null,
      "min_height": null,
      "min_width": null,
      "object_fit": null,
      "object_position": null,
      "order": null,
      "overflow": null,
      "overflow_x": null,
      "overflow_y": null,
      "padding": null,
      "right": null,
      "top": null,
      "visibility": null,
      "width": null
     }
    },
    "517efa7a7ffd433088de9a48a41c8828": {
     "model_module": "@jupyter-widgets/base",
     "model_module_version": "1.2.0",
     "model_name": "LayoutModel",
     "state": {
      "_model_module": "@jupyter-widgets/base",
      "_model_module_version": "1.2.0",
      "_model_name": "LayoutModel",
      "_view_count": null,
      "_view_module": "@jupyter-widgets/base",
      "_view_module_version": "1.2.0",
      "_view_name": "LayoutView",
      "align_content": null,
      "align_items": null,
      "align_self": null,
      "border": null,
      "bottom": null,
      "display": null,
      "flex": "2",
      "flex_flow": null,
      "grid_area": null,
      "grid_auto_columns": null,
      "grid_auto_flow": null,
      "grid_auto_rows": null,
      "grid_column": null,
      "grid_gap": null,
      "grid_row": null,
      "grid_template_areas": null,
      "grid_template_columns": null,
      "grid_template_rows": null,
      "height": null,
      "justify_content": null,
      "justify_items": null,
      "left": null,
      "margin": null,
      "max_height": null,
      "max_width": null,
      "min_height": null,
      "min_width": null,
      "object_fit": null,
      "object_position": null,
      "order": null,
      "overflow": null,
      "overflow_x": null,
      "overflow_y": null,
      "padding": null,
      "right": null,
      "top": null,
      "visibility": null,
      "width": null
     }
    },
    "5a35bde6a16a4a0b80b0ee2ccd8868df": {
     "model_module": "@jupyter-widgets/base",
     "model_module_version": "1.2.0",
     "model_name": "LayoutModel",
     "state": {
      "_model_module": "@jupyter-widgets/base",
      "_model_module_version": "1.2.0",
      "_model_name": "LayoutModel",
      "_view_count": null,
      "_view_module": "@jupyter-widgets/base",
      "_view_module_version": "1.2.0",
      "_view_name": "LayoutView",
      "align_content": null,
      "align_items": null,
      "align_self": null,
      "border": null,
      "bottom": null,
      "display": null,
      "flex": null,
      "flex_flow": null,
      "grid_area": null,
      "grid_auto_columns": null,
      "grid_auto_flow": null,
      "grid_auto_rows": null,
      "grid_column": null,
      "grid_gap": null,
      "grid_row": null,
      "grid_template_areas": null,
      "grid_template_columns": null,
      "grid_template_rows": null,
      "height": null,
      "justify_content": null,
      "justify_items": null,
      "left": null,
      "margin": null,
      "max_height": null,
      "max_width": null,
      "min_height": null,
      "min_width": null,
      "object_fit": null,
      "object_position": null,
      "order": null,
      "overflow": null,
      "overflow_x": null,
      "overflow_y": null,
      "padding": null,
      "right": null,
      "top": null,
      "visibility": null,
      "width": null
     }
    },
    "60b1e6f90fc040a1bb0914040da5c61b": {
     "model_module": "@jupyter-widgets/controls",
     "model_module_version": "1.5.0",
     "model_name": "DescriptionStyleModel",
     "state": {
      "_model_module": "@jupyter-widgets/controls",
      "_model_module_version": "1.5.0",
      "_model_name": "DescriptionStyleModel",
      "_view_count": null,
      "_view_module": "@jupyter-widgets/base",
      "_view_module_version": "1.2.0",
      "_view_name": "StyleView",
      "description_width": ""
     }
    },
    "643977e123424df383b5dfc2f3da995d": {
     "model_module": "@jupyter-widgets/controls",
     "model_module_version": "1.5.0",
     "model_name": "DescriptionStyleModel",
     "state": {
      "_model_module": "@jupyter-widgets/controls",
      "_model_module_version": "1.5.0",
      "_model_name": "DescriptionStyleModel",
      "_view_count": null,
      "_view_module": "@jupyter-widgets/base",
      "_view_module_version": "1.2.0",
      "_view_name": "StyleView",
      "description_width": ""
     }
    },
    "66fde11efa8f4129a26af56c710afd64": {
     "model_module": "@jupyter-widgets/controls",
     "model_module_version": "1.5.0",
     "model_name": "ProgressStyleModel",
     "state": {
      "_model_module": "@jupyter-widgets/controls",
      "_model_module_version": "1.5.0",
      "_model_name": "ProgressStyleModel",
      "_view_count": null,
      "_view_module": "@jupyter-widgets/base",
      "_view_module_version": "1.2.0",
      "_view_name": "StyleView",
      "bar_color": "blue",
      "description_width": ""
     }
    },
    "6743e30f9e434251b8478916b902c7cf": {
     "model_module": "@jupyter-widgets/controls",
     "model_module_version": "1.5.0",
     "model_name": "ProgressStyleModel",
     "state": {
      "_model_module": "@jupyter-widgets/controls",
      "_model_module_version": "1.5.0",
      "_model_name": "ProgressStyleModel",
      "_view_count": null,
      "_view_module": "@jupyter-widgets/base",
      "_view_module_version": "1.2.0",
      "_view_name": "StyleView",
      "bar_color": "blue",
      "description_width": ""
     }
    },
    "6c45f55848f54aa6be85521093fea8ea": {
     "model_module": "@jupyter-widgets/controls",
     "model_module_version": "1.5.0",
     "model_name": "HBoxModel",
     "state": {
      "_dom_classes": [],
      "_model_module": "@jupyter-widgets/controls",
      "_model_module_version": "1.5.0",
      "_model_name": "HBoxModel",
      "_view_count": null,
      "_view_module": "@jupyter-widgets/controls",
      "_view_module_version": "1.5.0",
      "_view_name": "HBoxView",
      "box_style": "",
      "children": [
       "IPY_MODEL_ccd3160885784b89b235e78ed93d7d09",
       "IPY_MODEL_bbe22f9c264b49398bf5da45133e5181",
       "IPY_MODEL_3e1bf33e465e4ef9ab8dd66979683456"
      ],
      "layout": "IPY_MODEL_7201895cb67148aaac409dff1aab7631"
     }
    },
    "7201895cb67148aaac409dff1aab7631": {
     "model_module": "@jupyter-widgets/base",
     "model_module_version": "1.2.0",
     "model_name": "LayoutModel",
     "state": {
      "_model_module": "@jupyter-widgets/base",
      "_model_module_version": "1.2.0",
      "_model_name": "LayoutModel",
      "_view_count": null,
      "_view_module": "@jupyter-widgets/base",
      "_view_module_version": "1.2.0",
      "_view_name": "LayoutView",
      "align_content": null,
      "align_items": null,
      "align_self": null,
      "border": null,
      "bottom": null,
      "display": "inline-flex",
      "flex": null,
      "flex_flow": "row wrap",
      "grid_area": null,
      "grid_auto_columns": null,
      "grid_auto_flow": null,
      "grid_auto_rows": null,
      "grid_column": null,
      "grid_gap": null,
      "grid_row": null,
      "grid_template_areas": null,
      "grid_template_columns": null,
      "grid_template_rows": null,
      "height": null,
      "justify_content": null,
      "justify_items": null,
      "left": null,
      "margin": null,
      "max_height": null,
      "max_width": null,
      "min_height": null,
      "min_width": null,
      "object_fit": null,
      "object_position": null,
      "order": null,
      "overflow": null,
      "overflow_x": null,
      "overflow_y": null,
      "padding": null,
      "right": null,
      "top": null,
      "visibility": null,
      "width": "100%"
     }
    },
    "8067ce206c9f4a35a9323fcd128affc9": {
     "model_module": "@jupyter-widgets/base",
     "model_module_version": "1.2.0",
     "model_name": "LayoutModel",
     "state": {
      "_model_module": "@jupyter-widgets/base",
      "_model_module_version": "1.2.0",
      "_model_name": "LayoutModel",
      "_view_count": null,
      "_view_module": "@jupyter-widgets/base",
      "_view_module_version": "1.2.0",
      "_view_name": "LayoutView",
      "align_content": null,
      "align_items": null,
      "align_self": null,
      "border": null,
      "bottom": null,
      "display": null,
      "flex": null,
      "flex_flow": null,
      "grid_area": null,
      "grid_auto_columns": null,
      "grid_auto_flow": null,
      "grid_auto_rows": null,
      "grid_column": null,
      "grid_gap": null,
      "grid_row": null,
      "grid_template_areas": null,
      "grid_template_columns": null,
      "grid_template_rows": null,
      "height": null,
      "justify_content": null,
      "justify_items": null,
      "left": null,
      "margin": null,
      "max_height": null,
      "max_width": null,
      "min_height": null,
      "min_width": null,
      "object_fit": null,
      "object_position": null,
      "order": null,
      "overflow": null,
      "overflow_x": null,
      "overflow_y": null,
      "padding": null,
      "right": null,
      "top": null,
      "visibility": null,
      "width": null
     }
    },
    "834a869ce79d4680b57e57f67dd9f490": {
     "model_module": "@jupyter-widgets/controls",
     "model_module_version": "1.5.0",
     "model_name": "HBoxModel",
     "state": {
      "_dom_classes": [],
      "_model_module": "@jupyter-widgets/controls",
      "_model_module_version": "1.5.0",
      "_model_name": "HBoxModel",
      "_view_count": null,
      "_view_module": "@jupyter-widgets/controls",
      "_view_module_version": "1.5.0",
      "_view_name": "HBoxView",
      "box_style": "",
      "children": [
       "IPY_MODEL_9d6d477510614cbf925b6e1b0c041ba6",
       "IPY_MODEL_1bfa7b0213c54faa936ef2931e5ca21d",
       "IPY_MODEL_86753e093ff9487c933c182f9a6943e3"
      ],
      "layout": "IPY_MODEL_dc531683ebd942fd9cf9bf5a9def149c"
     }
    },
    "86753e093ff9487c933c182f9a6943e3": {
     "model_module": "@jupyter-widgets/controls",
     "model_module_version": "1.5.0",
     "model_name": "HTMLModel",
     "state": {
      "_dom_classes": [],
      "_model_module": "@jupyter-widgets/controls",
      "_model_module_version": "1.5.0",
      "_model_name": "HTMLModel",
      "_view_count": null,
      "_view_module": "@jupyter-widgets/controls",
      "_view_module_version": "1.5.0",
      "_view_name": "HTMLView",
      "description": "",
      "description_tooltip": null,
      "layout": "IPY_MODEL_e99741830f4d47ab9d02afe63378cfc4",
      "placeholder": "​",
      "style": "IPY_MODEL_a67c47b2e288414fa5a18eebca855eb7",
      "value": " 10000/10000 [02:00&lt;00:00, 101.01it/s]"
     }
    },
    "9d6d477510614cbf925b6e1b0c041ba6": {
     "model_module": "@jupyter-widgets/controls",
     "model_module_version": "1.5.0",
     "model_name": "HTMLModel",
     "state": {
      "_dom_classes": [],
      "_model_module": "@jupyter-widgets/controls",
      "_model_module_version": "1.5.0",
      "_model_name": "HTMLModel",
      "_view_count": null,
      "_view_module": "@jupyter-widgets/controls",
      "_view_module_version": "1.5.0",
      "_view_name": "HTMLView",
      "description": "",
      "description_tooltip": null,
      "layout": "IPY_MODEL_8067ce206c9f4a35a9323fcd128affc9",
      "placeholder": "​",
      "style": "IPY_MODEL_643977e123424df383b5dfc2f3da995d",
      "value": "Training Progress: 100%"
     }
    },
    "a67c47b2e288414fa5a18eebca855eb7": {
     "model_module": "@jupyter-widgets/controls",
     "model_module_version": "1.5.0",
     "model_name": "DescriptionStyleModel",
     "state": {
      "_model_module": "@jupyter-widgets/controls",
      "_model_module_version": "1.5.0",
      "_model_name": "DescriptionStyleModel",
      "_view_count": null,
      "_view_module": "@jupyter-widgets/base",
      "_view_module_version": "1.2.0",
      "_view_name": "StyleView",
      "description_width": ""
     }
    },
    "bbe22f9c264b49398bf5da45133e5181": {
     "model_module": "@jupyter-widgets/controls",
     "model_module_version": "1.5.0",
     "model_name": "FloatProgressModel",
     "state": {
      "_dom_classes": [],
      "_model_module": "@jupyter-widgets/controls",
      "_model_module_version": "1.5.0",
      "_model_name": "FloatProgressModel",
      "_view_count": null,
      "_view_module": "@jupyter-widgets/controls",
      "_view_module_version": "1.5.0",
      "_view_name": "ProgressView",
      "bar_style": "",
      "description": "",
      "description_tooltip": null,
      "layout": "IPY_MODEL_517efa7a7ffd433088de9a48a41c8828",
      "max": 200000,
      "min": 0,
      "orientation": "horizontal",
      "style": "IPY_MODEL_6743e30f9e434251b8478916b902c7cf",
      "value": 176
     }
    },
    "ccd3160885784b89b235e78ed93d7d09": {
     "model_module": "@jupyter-widgets/controls",
     "model_module_version": "1.5.0",
     "model_name": "HTMLModel",
     "state": {
      "_dom_classes": [],
      "_model_module": "@jupyter-widgets/controls",
      "_model_module_version": "1.5.0",
      "_model_name": "HTMLModel",
      "_view_count": null,
      "_view_module": "@jupyter-widgets/controls",
      "_view_module_version": "1.5.0",
      "_view_name": "HTMLView",
      "description": "",
      "description_tooltip": null,
      "layout": "IPY_MODEL_044081ac093d42e6a1cb5da91fcb0bf8",
      "placeholder": "​",
      "style": "IPY_MODEL_261d77b3c43c4b00a669c858eec57ed8",
      "value": "Training Progress:   0%"
     }
    },
    "dc531683ebd942fd9cf9bf5a9def149c": {
     "model_module": "@jupyter-widgets/base",
     "model_module_version": "1.2.0",
     "model_name": "LayoutModel",
     "state": {
      "_model_module": "@jupyter-widgets/base",
      "_model_module_version": "1.2.0",
      "_model_name": "LayoutModel",
      "_view_count": null,
      "_view_module": "@jupyter-widgets/base",
      "_view_module_version": "1.2.0",
      "_view_name": "LayoutView",
      "align_content": null,
      "align_items": null,
      "align_self": null,
      "border": null,
      "bottom": null,
      "display": "inline-flex",
      "flex": null,
      "flex_flow": "row wrap",
      "grid_area": null,
      "grid_auto_columns": null,
      "grid_auto_flow": null,
      "grid_auto_rows": null,
      "grid_column": null,
      "grid_gap": null,
      "grid_row": null,
      "grid_template_areas": null,
      "grid_template_columns": null,
      "grid_template_rows": null,
      "height": null,
      "justify_content": null,
      "justify_items": null,
      "left": null,
      "margin": null,
      "max_height": null,
      "max_width": null,
      "min_height": null,
      "min_width": null,
      "object_fit": null,
      "object_position": null,
      "order": null,
      "overflow": null,
      "overflow_x": null,
      "overflow_y": null,
      "padding": null,
      "right": null,
      "top": null,
      "visibility": null,
      "width": "100%"
     }
    },
    "e99741830f4d47ab9d02afe63378cfc4": {
     "model_module": "@jupyter-widgets/base",
     "model_module_version": "1.2.0",
     "model_name": "LayoutModel",
     "state": {
      "_model_module": "@jupyter-widgets/base",
      "_model_module_version": "1.2.0",
      "_model_name": "LayoutModel",
      "_view_count": null,
      "_view_module": "@jupyter-widgets/base",
      "_view_module_version": "1.2.0",
      "_view_name": "LayoutView",
      "align_content": null,
      "align_items": null,
      "align_self": null,
      "border": null,
      "bottom": null,
      "display": null,
      "flex": null,
      "flex_flow": null,
      "grid_area": null,
      "grid_auto_columns": null,
      "grid_auto_flow": null,
      "grid_auto_rows": null,
      "grid_column": null,
      "grid_gap": null,
      "grid_row": null,
      "grid_template_areas": null,
      "grid_template_columns": null,
      "grid_template_rows": null,
      "height": null,
      "justify_content": null,
      "justify_items": null,
      "left": null,
      "margin": null,
      "max_height": null,
      "max_width": null,
      "min_height": null,
      "min_width": null,
      "object_fit": null,
      "object_position": null,
      "order": null,
      "overflow": null,
      "overflow_x": null,
      "overflow_y": null,
      "padding": null,
      "right": null,
      "top": null,
      "visibility": null,
      "width": null
     }
    }
   }
  }
 },
 "nbformat": 4,
 "nbformat_minor": 5
}
