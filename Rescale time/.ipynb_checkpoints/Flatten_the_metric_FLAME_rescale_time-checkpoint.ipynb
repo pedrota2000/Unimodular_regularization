{
 "cells": [
  {
   "cell_type": "code",
   "execution_count": null,
   "id": "wR9bKWlLM5X3",
   "metadata": {
    "colab": {
     "base_uri": "https://localhost:8080/"
    },
    "id": "wR9bKWlLM5X3",
    "outputId": "0b9fd889-090d-44ff-c8d4-226c6e8bc7f0"
   },
   "outputs": [],
   "source": [
    "!pip install neurodiffeq"
   ]
  },
  {
   "cell_type": "code",
   "execution_count": null,
   "id": "Emlx4at4MUoR",
   "metadata": {
    "id": "Emlx4at4MUoR"
   },
   "outputs": [],
   "source": [
    "# Import necessary libraries\n",
    "import torch\n",
    "import numpy as np\n",
    "from tqdm.notebook import tqdm\n",
    "from scipy.integrate import odeint\n",
    "\n",
    "import neurodiffeq\n",
    "from neurodiffeq import diff\n",
    "from neurodiffeq.conditions import IVP, DirichletBVP, DirichletBVP2D, BundleIVP, NoCondition, BundleDirichletBVP\n",
    "from neurodiffeq.solvers import *\n",
    "from neurodiffeq.networks import FCNN, SinActv\n",
    "from neurodiffeq.monitors import Monitor1D\n",
    "from neurodiffeq.generators import Generator1D, Generator2D, PredefinedGenerator, BaseGenerator, PredefinedGenerator\n",
    "from neurodiffeq.callbacks import ActionCallback\n",
    "from neurodiffeq import diff\n",
    "\n",
    "import copy as copy\n",
    "import cmath as cmath\n",
    "import types"
   ]
  },
  {
   "cell_type": "code",
   "execution_count": null,
   "id": "Igb5DWv8MUoS",
   "metadata": {
    "id": "Igb5DWv8MUoS"
   },
   "outputs": [],
   "source": [
    "# Helper code to make graphs look better\n",
    "import seaborn as sns\n",
    "from cycler import cycler\n",
    "import matplotlib.pyplot as plt\n",
    "from matplotlib.animation import FuncAnimation\n",
    "large = 24; medium = 18; small = 12\n",
    "colors = ['#66bb6a', '#558ed5', '#dd6a63', '#dcd0ff', '#ffa726', '#8c5eff', '#f44336', '#00bcd4', '#ffc107', '#9c27b0']\n",
    "params = {'axes.titlesize': medium,\n",
    "          'legend.fontsize': small,\n",
    "          'figure.figsize': (8, 8),\n",
    "          'axes.labelsize': small,\n",
    "          'axes.linewidth': 2,\n",
    "          'xtick.labelsize': small,\n",
    "          'xtick.color' : '#1D1717',\n",
    "          'ytick.color' : '#1D1717',\n",
    "          'ytick.labelsize': small,\n",
    "          'axes.edgecolor':'#1D1717',\n",
    "          'figure.titlesize': medium,\n",
    "          'axes.prop_cycle': cycler(color = colors),}\n",
    "plt.rcParams.update(params)\n",
    "%matplotlib inline\n",
    "\n",
    "vec_sqrt = np.vectorize(cmath.sqrt)\n",
    "vec_exp = np.vectorize(cmath.exp)\n",
    "vec_cosh =  np.vectorize(cmath.cosh)\n",
    "vec_sinh =  np.vectorize(cmath.sinh)\n",
    "\n",
    "def _requires_closure(optimizer):\n",
    "    # starting from torch v1.13, simple optimizers no longer have a `closure` argument\n",
    "    closure_param = inspect.signature(optimizer.step).parameters.get('closure')\n",
    "    return closure_param and closure_param.default == inspect._empty\n",
    "\n",
    "# Mesh generators for the bundle solver #\n",
    "class MeshGenerator(BaseGenerator):\n",
    "\n",
    "    def __init__(self, g1, pg):\n",
    "\n",
    "        super(MeshGenerator, self).__init__()\n",
    "        self.g1 = g1\n",
    "        self.pg = pg\n",
    "\n",
    "    def get_examples(self):\n",
    "\n",
    "        u = self.g1.get_examples()\n",
    "        u = u.reshape(-1, 1, 1)\n",
    "\n",
    "        bundle_params = self.pg.get_examples()\n",
    "        if isinstance(bundle_params, torch.Tensor):\n",
    "            bundle_params = (bundle_params,)\n",
    "        assert len(bundle_params[0].shape) == 1, \"shape error, ask shuheng\"\n",
    "        n_params = len(bundle_params)\n",
    "\n",
    "        bundle_params = torch.stack(bundle_params, dim=1)\n",
    "        bundle_params = bundle_params.reshape(1, -1, n_params)\n",
    "\n",
    "        uu, bb = torch.broadcast_tensors(u, bundle_params)\n",
    "        uu = uu[:, :, 0].reshape(-1)\n",
    "        bb = [bb[:, :, i].reshape(-1) for i in range(n_params)]\n",
    "\n",
    "        return uu, *bb\n",
    "\n",
    "class DoSchedulerStep(ActionCallback):\n",
    "    def __init__(self, scheduler):\n",
    "        super().__init__()\n",
    "        self.scheduler = scheduler\n",
    "\n",
    "    def __call__(self, solver):\n",
    "        self.scheduler.step()"
   ]
  },
  {
   "cell_type": "code",
   "execution_count": null,
   "id": "3gOgEuc5pI0s",
   "metadata": {
    "id": "3gOgEuc5pI0s"
   },
   "outputs": [],
   "source": [
    "# CREATE THE CLASS OF THE EQUATIONS #\n",
    "class NET(nn.Module):\n",
    "    def __init__(self, H_model, head_model):\n",
    "        super(NET, self).__init__()\n",
    "        self.H_model = H_model\n",
    "        self.head_model = head_model\n",
    "\n",
    "    def forward(self, x):\n",
    "        x = self.H_model(x)\n",
    "        x = self.head_model(x)\n",
    "        return x\n",
    "\n",
    "# MULTIHEAD NN FREEZE #\n",
    "class NET_FREEZE(nn.Module):\n",
    "    def __init__(self, H_model, head_model):\n",
    "        super(NET_FREEZE, self).__init__()\n",
    "\n",
    "        for param in H_model.parameters():\n",
    "            param.requires_grad = False\n",
    "        self.H_model = H_model\n",
    "        self.head_model = head_model\n",
    "        # Freeze the parameters of H_model\n",
    "        #for param in self.H_model.parameters():\n",
    "            #param.requires_grad = False\n",
    "\n",
    "    def forward(self, x):\n",
    "        x = self.H_model(x)\n",
    "        x = self.head_model(x)\n",
    "        return x\n"
   ]
  },
  {
   "cell_type": "code",
   "execution_count": null,
   "id": "dwTOpWHe0-rm",
   "metadata": {
    "id": "dwTOpWHe0-rm"
   },
   "outputs": [],
   "source": [
    "# DEFINE THE EQUATIONS #\n",
    "def generate_equations(n_heads):\n",
    "  eq_dict = {} # Initialize the dictionary\n",
    "  # Loop to create functions\n",
    "  for head in range(n_heads):\n",
    "      # Define a new function using a lambda or nested function\n",
    "      def make_equations(head):\n",
    "        def eq(x,t):\n",
    "          a = a_list[head]\n",
    "          #a = 1.0\n",
    "          eq1 = diff(x,t)+rho*(- x**2 + x**3)\n",
    "          return [eq1]\n",
    "        return eq\n",
    "      # Store the function in the dictionary\n",
    "      eq_dict.update({f'equations_{head}':make_equations(head)})  # Now at the correct indentation level\n",
    "  print('Equations dictionary generated')\n",
    "  print(eq_dict)\n",
    "  return eq_dict"
   ]
  },
  {
   "cell_type": "code",
   "execution_count": 6,
   "id": "QsCnsdIdm8pV",
   "metadata": {
    "id": "QsCnsdIdm8pV"
   },
   "outputs": [],
   "source": [
    "# Custom solver to implement the MH with a variable parameter a #\n",
    "class Solver1D_MH(BundleSolver1D):\n",
    "  def __init__(self, a_list, all_nets, t_sampling, flatten=False,change_gen = True, *args, **kwargs):\n",
    "\n",
    "        self.n_heads = len(a_list)\n",
    "        self.a_list = a_list\n",
    "        print('Value of a chosen:' , self.a_list)\n",
    "        ################################\n",
    "        self.dV = None\n",
    "        self.TL = flatten\n",
    "        self.equations = kwargs.pop('ode_system')\n",
    "        self.gen_list = []\n",
    "        #self.equations = ode_set\n",
    "\n",
    "       # self.ode_set=[]\n",
    "        #for head in range(self.n_heads):\n",
    "         #   self.ode_set.append(self.equations[head])\n",
    "\n",
    "        #self.V = kwargs.pop('V', None)\n",
    "        self.alpha_2 = 0  #int(input('Loss coeff: '))\n",
    "\n",
    "        self.ode_list = []\n",
    "        self.all_generators = []\n",
    "        self.t_min = t_min\n",
    "        for head in range(self.n_heads):\n",
    "            if change_gen:\n",
    "              self.t_max = 2/(min(a_list)*rho)\n",
    "              t_sampling = 100#int((2/min(a_list*rho)-t_min)*3)\n",
    "              print(t_sampling)\n",
    "              t_gen = Generator1D(t_sampling,self.t_min,self.t_max,'equally-spaced-noisy')\n",
    "              print('Changed generators')\n",
    "              print(t_gen.get_examples())\n",
    "              print('Range of t' , self.t_min)\n",
    "              print(self.t_max)\n",
    "            else:\n",
    "              t_gen = Generator1D(t_sampling,t_min,t_max,'equally-spaced-noisy')\n",
    "            a_elem = torch.tensor(a_list[head])\n",
    "            pg = PredefinedGenerator([a_elem])\n",
    "            print('head',head)\n",
    "            #ode_system = kwargs.pop('ode_system')\n",
    "            ode_system = self.equations[head]\n",
    "            print('Inside solver __init()__:', ode_system)\n",
    "            super().__init__(ode_system=ode_system, *args, **kwargs)\n",
    "            self.ode_list.append(self.diff_eqs)\n",
    "            # Prepare all the generators #\n",
    "            self.all_generators.append(MeshGenerator(t_gen,pg))\n",
    "            #print('self.diff_eqs after super().__init__()', self.diff_eqs)\n",
    "\n",
    "        #print('ode_list', self.ode_list, self.ode_list[0])\n",
    "        self.all_nets = all_nets\n",
    "        self.head_add_loss = []\n",
    "        self.metrics_history['r2_loss'] = []\n",
    "        #self.metrics_history['head_add_loss'] = []\n",
    "        self.metrics_history['add_loss'] = []\n",
    "        self.metrics_history['DE_loss'] = []\n",
    "       # self.metrics_fn = {\"add_loss\": 0.0,\n",
    "        #                   \"DE_loss\": 0.0\n",
    "        #}\n",
    "\n",
    "        #print('ode_list', self.ode_list, self.ode_list[0])\n",
    "        self.all_nets = all_nets\n",
    "        self.best_nets_list = np.ones(self.n_heads,dtype = object)\n",
    "        self.metrics_history['r2_loss'] = []\n",
    "        self.metrics_history['add_loss'] = []\n",
    "        self.metrics_history['phi_max'] = []\n",
    "  def custom_epoch(self, key):\n",
    "        r\"\"\"Run an epoch on train/valid points, update history, and perform an optimization step if key=='train'.\n",
    "\n",
    "        :param key: {'train', 'valid'}; phase of the epoch\n",
    "        :type key: str\n",
    "\n",
    "        .. note::\n",
    "            The optimization step is only performed after all batches are run.\n",
    "        \"\"\"\n",
    "        if self.n_batches[key] <= 0:\n",
    "            # XXX maybe we should append NaN to metric history?\n",
    "            return\n",
    "        self._phase = key\n",
    "\n",
    "        tot_epoch_loss = 0.0\n",
    "       # tot_epoch_add_loss = 0.0\n",
    "       # tot_epoch_DE_loss = 0.0\n",
    "\n",
    "        #batch_loss = 0.0\n",
    "\n",
    "\n",
    "        loss = torch.tensor([0.0]) #, requires_grad=True) #added by me for multihead\n",
    "        #add_loss = torch.tensor([0.0])\n",
    "        #DE_loss = torch.tensor([0.0])\n",
    "\n",
    "\n",
    "        metric_values = {name: 0.0 for name in self.metrics_fn}\n",
    "\n",
    "        # Zero the gradient only once, before running the batches. Gradients of different batches are accumulated.\n",
    "        if key == 'train' and not _requires_closure(self.optimizer):\n",
    "            self.optimizer.zero_grad()\n",
    "\n",
    "        # perform forward pass for all batches: a single graph is created and release in every iteration\n",
    "        # see https://discuss.pytorch.org/t/why-do-we-need-to-set-the-gradients-manually-to-zero-in-pytorch/4903/17\n",
    "\n",
    "        for head in range(self.n_heads):\n",
    "            #print('head', head)\n",
    "            head_epoch_loss = 0.0\n",
    "           # head_epoch_add_loss = 0.0\n",
    "           # head_epoch_DE_loss = 0.0\n",
    "\n",
    "            self.nets = self.all_nets[:,head]\n",
    "            self.diff_eqs = self.ode_list[head]\n",
    "\n",
    "            self.generator['train'] = self.all_generators[head]\n",
    "            self.generator['valid'] = self.all_generators[head]\n",
    "           # y = self.generator[key].get_examples()[1].detach().numpy()\n",
    "           # plt.hist(y)\n",
    "            #print(len(self.generator['train'].get_examples()))\n",
    "\n",
    "            for batch_id in range(self.n_batches[key]):\n",
    "                batch = self._generate_batch(key)\n",
    "\n",
    "                #print(len(batch[0]))\n",
    "               # print(self.n_batches[key])\n",
    "\n",
    "                batch_loss = 0.0\n",
    "               # batch_add_loss = 0.0\n",
    "                #batch_DE_loss = 0.0\n",
    "\n",
    "                def closure(zero_grad=True):\n",
    "                    nonlocal batch_loss\n",
    "\n",
    "                    if key == 'train' and zero_grad:\n",
    "                        self.optimizer.zero_grad()\n",
    "                    funcs = [\n",
    "                        self.compute_func_val(n, c, *batch) for n, c in zip(self.nets, self.conditions)\n",
    "                    ]\n",
    "\n",
    "                    for name in self.metrics_fn:\n",
    "                        value = self.metrics_fn[name](*funcs, *batch).item()\n",
    "                        metric_values[name] += value\n",
    "\n",
    "                    #CALLING THE EQUATIONS\n",
    "\n",
    "                    residuals = self.diff_eqs(*funcs, *batch)\n",
    "                    residuals = torch.cat(residuals, dim=1)\n",
    "                   # print(residuals)\n",
    "\n",
    "                    try:\n",
    "                        DE_loss = self.loss_fn(residuals, funcs, batch)\n",
    "                        add_loss = self.additional_loss(residuals, funcs, batch, head)\n",
    "                        loss = DE_loss + add_loss\n",
    "\n",
    "                        #self.metrics_history['add_loss'].append()\n",
    "\n",
    "                        #print('Head' + str(head) + ' loss ' + str(loss))\n",
    "                        #if self.global_epoch %100:\n",
    "                            #print('loss ',head,'=',loss)\n",
    "\n",
    "                    except TypeError as e:\n",
    "                        warnings.warn(\n",
    "                            \"You might need to update your code. \"\n",
    "                            \"Since v0.4.0; both `criterion` and `additional_loss` requires three inputs: \"\n",
    "                            \"`residual`, `funcs`, and `coords`. See documentation for more.\", FutureWarning)\n",
    "                        raise e\n",
    "\n",
    "                    # accumulate gradients before the current graph is collected as garbage\n",
    "\n",
    "                    #DOING BACKPROPAGATION\n",
    "                    if key == 'train':\n",
    "                        loss.backward()\n",
    "                        batch_loss = loss.item()\n",
    "                      #  batch_add_loss = add_loss.item()\n",
    "                       # batch_DE_loss = DE_loss.item()\n",
    "                        #print('0',batch_loss)\n",
    "\n",
    "                   # print(loss,add_loss,DE_loss)\n",
    "\n",
    "                    return loss  #, add_loss, DE_loss\n",
    "\n",
    "                if key == 'train':\n",
    "\n",
    "                        # Optimizer step will be performed only once outside the for-loop (i.e. after all batches).\n",
    "                    closure(zero_grad=False)    #closure(zero_grad=False) was inside else in initial code\n",
    "\n",
    "                    #print('key 2.batch')\n",
    "\n",
    "                    head_epoch_loss += batch_loss\n",
    "                   # head_epoch_add_loss += batch_add_loss\n",
    "                   # head_epoch_DE_loss += batch_DE_loss\n",
    "                    #print('head_loss', head_epoch_loss)\n",
    "                    #head_epoch_loss += closure().item()\n",
    "\n",
    "            if key == 'train':\n",
    "                if _requires_closure(self.optimizer):\n",
    "                    self._do_optimizer_step(closure=closure)\n",
    "                    #print('optimizer step, key 1 head')\n",
    "\n",
    "                ##else:\n",
    "                    #closure(zero_grad=False)\n",
    "                    #print('key 2.head')\n",
    "\n",
    "                tot_epoch_loss += head_epoch_loss\n",
    "           #     tot_epoch_add_loss += head_epoch_add_loss\n",
    "            #    tot_epoch_DE_loss += head_epoch_DE_loss\n",
    "             #   print('epoch losses: ', tot_epoch_loss,tot_epoch_add_loss,tot_epoch_DE_loss)\n",
    "\n",
    "            else:\n",
    "                tot_epoch_loss += closure()[0].item()\n",
    "              #  tot_epoch_add_loss += closure()[1].item()\n",
    "               # tot_epoch_DE_loss += closure()[2].item()\n",
    "                #print('key 3.head')\n",
    "\n",
    "            # If validation is performed, update the best network with the validation loss\n",
    "            # Otherwise, try to update the best network with the training loss\n",
    "        #print(tot_epoch_loss)\n",
    "        self.metrics_history['r2_loss'].append(tot_epoch_loss)\n",
    "\n",
    "\n",
    "        if key == 'valid' or self.n_batches['valid'] == 0:\n",
    "            self._update_best(key)\n",
    "\n",
    "        # perform the optimizer step after all heads are run (if optimizer.step doesn't require `closure`)\n",
    "        if key == 'train' and not _requires_closure(self.optimizer):\n",
    "            self._do_optimizer_step()\n",
    "            #print('optimizer step , key 4 head')\n",
    "\n",
    "            #tot_epoch_loss += (head_epoch_loss / self.n_batches[key])\n",
    "\n",
    "        # calculate the sum of all losses (one per head) and register to history\n",
    "\n",
    "        self._update_history(tot_epoch_loss, 'loss', key)\n",
    "\n",
    "     #   self.metrics_history['add_loss'].append(tot_epoch_add_loss)\n",
    "      #  self.metrics_history['DE_loss'].append(tot_epoch_DE_loss)\n",
    "\n",
    "        # calculate total metrics across heads (and averaged across batches) and register to history\n",
    "        for name in self.metrics_fn:\n",
    "            print(name)\n",
    "            self._update_history(\n",
    "                metric_values[name], name, key)\n",
    "\n",
    "\n",
    "  def run_custom_epoch(self):\n",
    "      r\"\"\"Run a training epoch, update history, and perform gradient descent.\"\"\"\n",
    "      self.custom_epoch('train')\n",
    "  def _update_best(self, key):\n",
    "        \"\"\"Update ``self.lowest_loss`` and ``self.best_nets``\n",
    "        if current training/validation loss is lower than ``self.lowest_loss``\n",
    "        \"\"\"\n",
    "        current_loss = self.metrics_history['r2_loss'][-1]\n",
    "        if (self.lowest_loss is None) or current_loss < self.lowest_loss:\n",
    "            self.lowest_loss = current_loss\n",
    "            for i in range(self.n_heads):\n",
    "              self.best_nets_list[i] = deepcopy(self.all_nets[:,i])\n",
    "\n",
    "  def fit(self, max_epochs, callbacks=(), tqdm_file='default', **kwargs):\n",
    "      r\"\"\"Run multiple epochs of training and validation, update best loss at the end of each epoch.\n",
    "\n",
    "      If ``callbacks`` is passed, callbacks are run, one at a time,\n",
    "      after training, validating and updating best model.\n",
    "\n",
    "      :param max_epochs: Number of epochs to run.\n",
    "      :type max_epochs: int\n",
    "      :param callbacks:\n",
    "          A list of callback functions.\n",
    "          Each function should accept the ``solver`` instance itself as its **only** argument.\n",
    "      :rtype callbacks: list[callable]\n",
    "      :param tqdm_file:\n",
    "          File to write tqdm progress bar. If set to None, tqdm is not used at all.\n",
    "          Defaults to ``sys.stderr``.\n",
    "      :type tqdm_file: io.StringIO or _io.TextIOWrapper\n",
    "\n",
    "      .. note::\n",
    "          1. This method does not return solution, which is done in the ``.get_solution()`` method.\n",
    "          2. A callback ``cb(solver)`` can set ``solver._stop_training`` to True to perform early stopping.\n",
    "      \"\"\"\n",
    "      self._stop_training = False\n",
    "      self._max_local_epoch = max_epochs\n",
    "\n",
    "      self.callbacks = callbacks\n",
    "\n",
    "      monitor = kwargs.pop('monitor', None)\n",
    "      if monitor:\n",
    "          warnings.warn(\"Passing `monitor` is deprecated, \"\n",
    "                        \"use a MonitorCallback and pass a list of callbacks instead\")\n",
    "          callbacks = [monitor.to_callback()] + list(callbacks)\n",
    "      if kwargs:\n",
    "          raise ValueError(f'Unknown keyword argument(s): {list(kwargs.keys())}')  # pragma: no cover\n",
    "\n",
    "      flag=False\n",
    "      if str(tqdm_file) == 'default':\n",
    "          bar = tqdm(\n",
    "              total = max_epochs,\n",
    "              desc='Training Progress',\n",
    "              colour='blue',\n",
    "              dynamic_ncols=True,\n",
    "          )\n",
    "      elif tqdm_file is not None:\n",
    "          bar = tqdm_file\n",
    "      else:\n",
    "          flag=True\n",
    "\n",
    "\n",
    "\n",
    "      for local_epoch in range(max_epochs):\n",
    "            #stop training if self._stop_training is set to True by a callback\n",
    "          if self._stop_training:\n",
    "              break\n",
    "\n",
    "          # register local epoch (starting from 1 instead of 0) so it can be accessed by callbacks\n",
    "          self.local_epoch = local_epoch + 1\n",
    "          #self.run_train_epoch()\n",
    "          self.run_custom_epoch()\n",
    "          self.run_valid_epoch()\n",
    "          for cb in callbacks:\n",
    "              cb(self)\n",
    "          if not flag:\n",
    "              bar.update(1)\n",
    "\n",
    "  def additional_loss(self,r,f,x, head):\n",
    "        if head == self.n_heads-1 and self.global_epoch%100 == 0 and self.TL:\n",
    "            g_det = 0.0\n",
    "            der_g_det = 0.0\n",
    "            flat_metric = 1.0 * len(self.nets)\n",
    "            t = torch.linspace(self.t_min,self.t_max,100,requires_grad=True)\n",
    "            a = torch.linspace(a_min,a_max,80,requires_grad=True)\n",
    "            T,A = torch.meshgrid(t,a,indexing = 'ij')\n",
    "            g_MAT = torch.ones_like(T)\n",
    "            g_det = torch.ones_like(T)\n",
    "            for f in range(1):\n",
    "              x = torch.cat([T.reshape(-1,1),A.reshape(-1,1)],dim = 1)  # t and a #\n",
    "              H = self.nets[f].H_model(x)\n",
    "              Omega = torch.cat([x,H],dim = 1)\n",
    "\n",
    "              #gmunu = torch.zeros([len(x),len(x)])\n",
    "              partial_omega = []\n",
    "              for j in range(Omega.shape[1]):\n",
    "                partial_omega.append(diff(Omega[:,j],x,shape_check = False))\n",
    "              partial_omega = torch.stack(partial_omega)   # [Coordinate index, sampling , metric dimension] #\n",
    "              partial_omega = torch.transpose(partial_omega,dim0 = 0,dim1 = 1) # [sampling ,coordinate index, metric dimension] #\n",
    "\n",
    "              T,A = torch.meshgrid(t,a,indexing = 'ij')\n",
    "              g_MAT = torch.matmul(torch.transpose(partial_omega,dim0 = 1,dim1 = 2),partial_omega )\n",
    "              g_det += torch.sqrt(torch.linalg.det(g_MAT)).reshape_as(T)\n",
    "            #der_g_det = diff(g_det,x,shape_check = False)\n",
    "            self.dV = +torch.sum(g_det-flat_metric)  #torch.sum(der_g_det**2)  # Indent this line to match the previous one\n",
    "            #print(self.dV)\n",
    "            plain_metric =  self.dV*5e-7  # Indent this line to match the previous one\n",
    "            #print(plain_metric)\n",
    "        else:\n",
    "          plain_metric = torch.tensor([0.0])\n",
    "\n",
    "        self.head_add_loss.append(plain_metric)\n",
    "\n",
    "\n",
    "        if head == self.n_heads-1:\n",
    "            add_loss_epoch = sum(self.head_add_loss)\n",
    "            self.head_add_loss = []\n",
    "            if torch.cuda.is_available():\n",
    "                self.metrics_history['add_loss'].append(plain_metric.cpu().detach().numpy())\n",
    "            else:\n",
    "                self.metrics_history['add_loss'].append(plain_metric.detach().numpy())\n",
    "        #print(plain_metric)\n",
    "        return plain_metric"
   ]
  },
  {
   "cell_type": "code",
   "execution_count": 7,
   "id": "qcoroVNKwjA8",
   "metadata": {
    "id": "qcoroVNKwjA8"
   },
   "outputs": [],
   "source": [
    "\n",
    "def save_nets(path,nets,optim,solver):\n",
    "  H_state = []\n",
    "  head_state = []\n",
    "  for i in range(len(nets[:,0])):\n",
    "    H_state.append(solver.best_nets_list[0][i].H_model.state_dict())\n",
    "    for j in range(n_heads):\n",
    "      head_state.append(solver.best_nets_list[j][i].head_model.state_dict())\n",
    "  optim_state = optim.state_dict()\n",
    "  global_epoch = solver.global_epoch\n",
    "  loss = solver.metrics_history['train_loss']\n",
    "  torch.save({'H_state':H_state,'head_state':head_state,'optim_state':optim_state,'global_epoch':global_epoch,'loss':loss} ,path)\n",
    "def load_nets(path,nets,optim,solver):\n",
    "  master_dict = torch.load(path,map_location=torch.device('cpu'))\n",
    "  H_state = master_dict['H_state']\n",
    "  head_state = master_dict['head_state']\n",
    "  optim_state = master_dict['optim_state']\n",
    "  loss = master_dict['loss']\n",
    "  global_epoch = master_dict['global_epoch']\n",
    "  #solver.global_epoch = global_epoch\n",
    "  solver.metrics_history['train_loss'] = loss\n",
    "  for i in range(len(nets[:,0])):\n",
    "    nets[i,0].H_model.load_state_dict(H_state[i])\n",
    "    #for j in range(n_heads):\n",
    "     # nets[i,j].head_model.load_state_dict(head_state[i])\n",
    "  #optim.load_state_dict(optim_state)"
   ]
  },
  {
   "cell_type": "code",
   "execution_count": 8,
   "id": "sl30EP1DMUoT",
   "metadata": {
    "id": "sl30EP1DMUoT"
   },
   "outputs": [],
   "source": [
    "# Define the function to get the exact solution\n",
    "def f(t,a):\n",
    "    # Calculate the expression components\n",
    "    sqrt_term = vec_sqrt(-4 + a**2)\n",
    "    exp_term = vec_exp(-((a * t) / 2))\n",
    "    cosh_term = vec_cosh(1/2 * sqrt_term * t)\n",
    "    sinh_term = vec_sinh(1/2 * sqrt_term * t)\n",
    "\n",
    "    # Combine the components to get the final expression\n",
    "    result = exp_term * (cosh_term + (a * sinh_term) / sqrt_term)\n",
    "\n",
    "    return result"
   ]
  },
  {
   "cell_type": "code",
   "execution_count": 9,
   "id": "IG5QQoAgMUoT",
   "metadata": {
    "colab": {
     "base_uri": "https://localhost:8080/"
    },
    "id": "IG5QQoAgMUoT",
    "outputId": "25c2a2b2-2cf6-4a7e-a508-bfe8b1797ff9"
   },
   "outputs": [
    {
     "name": "stdout",
     "output_type": "stream",
     "text": [
      "Equations dictionary generated\n",
      "{'equations_0': <function generate_equations.<locals>.make_equations.<locals>.eq at 0x2bf4df560>}\n",
      "Equation list ready\n",
      "(1, 1)\n",
      "[0.015]\n"
     ]
    }
   ],
   "source": [
    "# Initialize t_min, t_max, a_min and a_max\n",
    "\n",
    "# Parameter that rescales the range of times #\n",
    "\n",
    "rho = 300\n",
    "\n",
    "t_min = 0.0\n",
    "t_max = 10\n",
    "\n",
    "a_min = 0.015\n",
    "a_max = 0.015\n",
    "\n",
    "a_list = np.linspace(a_min,a_max,1)\n",
    "n_heads = int(len(a_list))\n",
    "\n",
    "# Create the body and the nets #\n",
    "H = [FCNN(n_input_units=2, hidden_units=[64,64,64], n_output_units = 64) for _ in range(1)]\n",
    "\n",
    "heads = [[FCNN(n_input_units=64, hidden_units=[32,32], n_output_units = 1) for _ in range(n_heads)]for _ in range(len(H))]\n",
    "\n",
    "nets = np.ones([len(H),n_heads],dtype=nn.Module) # i -> equation, j -> head #\n",
    "for i in range(len(H)):\n",
    "    #print(i)\n",
    "    for j in range(n_heads):\n",
    "        nets[i,j] = NET(H[i],heads[i][j])\n",
    "\n",
    "# Create the equations #\n",
    "eq_dict = {}\n",
    "eq_dict = generate_equations(n_heads = n_heads)\n",
    "#print(self.eq_dict)\n",
    "equation_list = []\n",
    "for head in range(n_heads):\n",
    "    equations = eq_dict[f'equations_{head}']\n",
    "    #print(equations)\n",
    "    equation_list.append(equations)\n",
    "\n",
    "print('Equation list ready')\n",
    "\n",
    "print(nets.shape)\n",
    "\n",
    "#gen = Generator1D(48,t_min,t_max,'equally-spaced-noisy')\n",
    "\n",
    "# Normally lr. = 1e-3\n",
    "\n",
    "adam = torch.optim.Adam(OrderedSet([ p for q in range(n_heads) for net in list(nets[:,q]) for \n",
    "                                    p in net.parameters()]), lr=1e-3)\n",
    "\n",
    "scheduler = torch.optim.lr_scheduler.StepLR(adam, step_size=15000, gamma=0.975)\n",
    "\n",
    "# For one head #\n",
    "\n",
    "#scheduler = torch.optim.lr_scheduler.StepLR(adam, step_size=30000, gamma=0.975)\n",
    "scheduler_cb = DoSchedulerStep(scheduler=scheduler)\n",
    "print(a_list)"
   ]
  },
  {
   "cell_type": "code",
   "execution_count": 10,
   "id": "x5UaGP7xMUoT",
   "metadata": {
    "colab": {
     "base_uri": "https://localhost:8080/"
    },
    "id": "x5UaGP7xMUoT",
    "outputId": "f5713bd3-9418-4154-930b-d91491ba6c56"
   },
   "outputs": [
    {
     "name": "stdout",
     "output_type": "stream",
     "text": [
      "Value of a chosen: [0.015]\n",
      "100\n",
      "Changed generators\n",
      "tensor([-4.7028e-07,  5.2914e-03,  5.6689e-03,  1.5668e-02,  1.6505e-02,\n",
      "         2.3909e-02,  2.6099e-02,  3.1288e-02,  3.5489e-02,  3.9990e-02,\n",
      "         4.4676e-02,  4.9186e-02,  5.4511e-02,  6.0317e-02,  6.3284e-02,\n",
      "         6.8110e-02,  7.1906e-02,  7.6114e-02,  7.9362e-02,  8.4594e-02,\n",
      "         8.9519e-02,  9.4224e-02,  9.9511e-02,  1.0512e-01,  1.0844e-01,\n",
      "         1.1227e-01,  1.1674e-01,  1.2335e-01,  1.2642e-01,  1.2716e-01,\n",
      "         1.3390e-01,  1.4022e-01,  1.4371e-01,  1.4748e-01,  1.5265e-01,\n",
      "         1.5715e-01,  1.6184e-01,  1.6522e-01,  1.7066e-01,  1.7571e-01,\n",
      "         1.8067e-01,  1.8506e-01,  1.8702e-01,  1.9071e-01,  1.9666e-01,\n",
      "         2.0032e-01,  2.0627e-01,  2.0990e-01,  2.1500e-01,  2.2085e-01,\n",
      "         2.2482e-01,  2.2837e-01,  2.3236e-01,  2.3692e-01,  2.3994e-01,\n",
      "         2.4610e-01,  2.5184e-01,  2.5741e-01,  2.6090e-01,  2.6379e-01,\n",
      "         2.6978e-01,  2.7469e-01,  2.7772e-01,  2.8372e-01,  2.8843e-01,\n",
      "         2.9191e-01,  2.9477e-01,  3.0067e-01,  3.0441e-01,  3.0975e-01,\n",
      "         3.1444e-01,  3.1788e-01,  3.2434e-01,  3.3073e-01,  3.3144e-01,\n",
      "         3.3556e-01,  3.4256e-01,  3.4546e-01,  3.4996e-01,  3.5545e-01,\n",
      "         3.5968e-01,  3.6437e-01,  3.7077e-01,  3.7225e-01,  3.7652e-01,\n",
      "         3.8190e-01,  3.8573e-01,  3.9249e-01,  3.9490e-01,  4.0123e-01,\n",
      "         4.0306e-01,  4.0804e-01,  4.1205e-01,  4.1937e-01,  4.2088e-01,\n",
      "         4.2625e-01,  4.2979e-01,  4.3492e-01,  4.4007e-01,  4.4451e-01],\n",
      "       grad_fn=<NormalBackward1>)\n",
      "Range of t 0.0\n",
      "0.4444444444444444\n",
      "head 0\n",
      "Inside solver __init()__: <function generate_equations.<locals>.make_equations.<locals>.eq at 0x2bf4df560>\n"
     ]
    }
   ],
   "source": [
    "\n",
    "\n",
    "# Define the initial conditions\n",
    "\n",
    "init_val = [BundleIVP(t_min,None, bundle_param_lookup={'u_0': 0})]\n",
    "\n",
    "# Initialize the solver\n",
    "solver = Solver1D_MH(a_list = a_list,\n",
    "    all_nets = nets,\n",
    "    t_sampling = 64,\n",
    "    optimizer = adam,\n",
    "    ode_system =  equation_list,\n",
    "    conditions = init_val,\n",
    "    t_min = t_min,\n",
    "    t_max = t_max,\n",
    "    flatten = False,\n",
    "    n_batches_valid = 0,\n",
    "    change_gen = True\n",
    "   #train_generator=gen,\n",
    ")\n"
   ]
  },
  {
   "cell_type": "code",
   "execution_count": 11,
   "id": "dSdS3T6lSBeZ",
   "metadata": {
    "colab": {
     "base_uri": "https://localhost:8080/"
    },
    "id": "dSdS3T6lSBeZ",
    "outputId": "b295977d-c49c-4360-edaa-faafa6e5a87a"
   },
   "outputs": [
    {
     "data": {
      "text/plain": [
       "[FCNN(\n",
       "   (NN): Sequential(\n",
       "     (0): Linear(in_features=1, out_features=32, bias=True)\n",
       "     (1): Tanh()\n",
       "     (2): Linear(in_features=32, out_features=32, bias=True)\n",
       "     (3): Tanh()\n",
       "     (4): Linear(in_features=32, out_features=1, bias=True)\n",
       "   )\n",
       " )]"
      ]
     },
     "execution_count": 11,
     "metadata": {},
     "output_type": "execute_result"
    }
   ],
   "source": [
    "\n",
    "solver.nets"
   ]
  },
  {
   "cell_type": "code",
   "execution_count": 12,
   "id": "ZTtLcgM1MUoU",
   "metadata": {
    "colab": {
     "base_uri": "https://localhost:8080/",
     "height": 49,
     "referenced_widgets": [
      "5e1e258509f64dc292efb4830ee0ea59",
      "1bd57fb71a464951ada5357c4df502b5",
      "786f87d884f64f248a524a31e3894c93",
      "f57ed57f746049749a5294eefab53410",
      "117525edffc64cfeab9971b3505973eb",
      "667d977a40624706a5810f60f043d70e",
      "032ae8b0fc414cc7b6d736e718d2f8c6",
      "fdf2423e8791467a95dbf4e2825783b3",
      "0cef4396987845a6bbc2bcfb45f53678",
      "4a05873a560b4b45ac197c18d024e7b9",
      "6be846cc1b7e4d4b8cff2947ed6d7f59"
     ]
    },
    "id": "ZTtLcgM1MUoU",
    "outputId": "d79e4de8-d91d-45eb-f09b-b6d01df02643",
    "scrolled": false
   },
   "outputs": [
    {
     "data": {
      "application/vnd.jupyter.widget-view+json": {
       "model_id": "27366e4e300241218b9f51db1c4c89b0",
       "version_major": 2,
       "version_minor": 0
      },
      "text/plain": [
       "Training Progress:   0%|                           | 0/15000000 [00:00<?, ?it/s]"
      ]
     },
     "metadata": {},
     "output_type": "display_data"
    },
    {
     "ename": "KeyboardInterrupt",
     "evalue": "",
     "output_type": "error",
     "traceback": [
      "\u001b[0;31m---------------------------------------------------------------------------\u001b[0m",
      "\u001b[0;31mKeyboardInterrupt\u001b[0m                         Traceback (most recent call last)",
      "Cell \u001b[0;32mIn[12], line 3\u001b[0m\n\u001b[1;32m      1\u001b[0m \u001b[38;5;66;03m#torch.autograd.set_detect_anomaly(True)\u001b[39;00m\n\u001b[1;32m      2\u001b[0m \u001b[38;5;66;03m# Fit the solver\u001b[39;00m\n\u001b[0;32m----> 3\u001b[0m solver\u001b[38;5;241m.\u001b[39mfit(\u001b[38;5;241m15000000\u001b[39m,\n\u001b[1;32m      4\u001b[0m                callbacks \u001b[38;5;241m=\u001b[39m [scheduler_cb])\n",
      "Cell \u001b[0;32mIn[6], line 310\u001b[0m, in \u001b[0;36mSolver1D_MH.fit\u001b[0;34m(self, max_epochs, callbacks, tqdm_file, **kwargs)\u001b[0m\n\u001b[1;32m    308\u001b[0m \u001b[38;5;28mself\u001b[39m\u001b[38;5;241m.\u001b[39mlocal_epoch \u001b[38;5;241m=\u001b[39m local_epoch \u001b[38;5;241m+\u001b[39m \u001b[38;5;241m1\u001b[39m\n\u001b[1;32m    309\u001b[0m \u001b[38;5;66;03m#self.run_train_epoch()\u001b[39;00m\n\u001b[0;32m--> 310\u001b[0m \u001b[38;5;28mself\u001b[39m\u001b[38;5;241m.\u001b[39mrun_custom_epoch()\n\u001b[1;32m    311\u001b[0m \u001b[38;5;28mself\u001b[39m\u001b[38;5;241m.\u001b[39mrun_valid_epoch()\n\u001b[1;32m    312\u001b[0m \u001b[38;5;28;01mfor\u001b[39;00m cb \u001b[38;5;129;01min\u001b[39;00m callbacks:\n",
      "Cell \u001b[0;32mIn[6], line 242\u001b[0m, in \u001b[0;36mSolver1D_MH.run_custom_epoch\u001b[0;34m(self)\u001b[0m\n\u001b[1;32m    240\u001b[0m \u001b[38;5;28;01mdef\u001b[39;00m \u001b[38;5;21mrun_custom_epoch\u001b[39m(\u001b[38;5;28mself\u001b[39m):\n\u001b[1;32m    241\u001b[0m \u001b[38;5;250m    \u001b[39m\u001b[38;5;124mr\u001b[39m\u001b[38;5;124;03m\"\"\"Run a training epoch, update history, and perform gradient descent.\"\"\"\u001b[39;00m\n\u001b[0;32m--> 242\u001b[0m     \u001b[38;5;28mself\u001b[39m\u001b[38;5;241m.\u001b[39mcustom_epoch(\u001b[38;5;124m'\u001b[39m\u001b[38;5;124mtrain\u001b[39m\u001b[38;5;124m'\u001b[39m)\n",
      "Cell \u001b[0;32mIn[6], line 96\u001b[0m, in \u001b[0;36mSolver1D_MH.custom_epoch\u001b[0;34m(self, key)\u001b[0m\n\u001b[1;32m     94\u001b[0m \u001b[38;5;66;03m# Zero the gradient only once, before running the batches. Gradients of different batches are accumulated.\u001b[39;00m\n\u001b[1;32m     95\u001b[0m \u001b[38;5;28;01mif\u001b[39;00m key \u001b[38;5;241m==\u001b[39m \u001b[38;5;124m'\u001b[39m\u001b[38;5;124mtrain\u001b[39m\u001b[38;5;124m'\u001b[39m \u001b[38;5;129;01mand\u001b[39;00m \u001b[38;5;129;01mnot\u001b[39;00m _requires_closure(\u001b[38;5;28mself\u001b[39m\u001b[38;5;241m.\u001b[39moptimizer):\n\u001b[0;32m---> 96\u001b[0m     \u001b[38;5;28mself\u001b[39m\u001b[38;5;241m.\u001b[39moptimizer\u001b[38;5;241m.\u001b[39mzero_grad()\n\u001b[1;32m     98\u001b[0m \u001b[38;5;66;03m# perform forward pass for all batches: a single graph is created and release in every iteration\u001b[39;00m\n\u001b[1;32m     99\u001b[0m \u001b[38;5;66;03m# see https://discuss.pytorch.org/t/why-do-we-need-to-set-the-gradients-manually-to-zero-in-pytorch/4903/17\u001b[39;00m\n\u001b[1;32m    101\u001b[0m \u001b[38;5;28;01mfor\u001b[39;00m head \u001b[38;5;129;01min\u001b[39;00m \u001b[38;5;28mrange\u001b[39m(\u001b[38;5;28mself\u001b[39m\u001b[38;5;241m.\u001b[39mn_heads):\n\u001b[1;32m    102\u001b[0m     \u001b[38;5;66;03m#print('head', head)\u001b[39;00m\n",
      "File \u001b[0;32m~/anaconda3/lib/python3.11/site-packages/torch/_compile.py:24\u001b[0m, in \u001b[0;36m_disable_dynamo.<locals>.inner\u001b[0;34m(*args, **kwargs)\u001b[0m\n\u001b[1;32m     20\u001b[0m \u001b[38;5;129m@functools\u001b[39m\u001b[38;5;241m.\u001b[39mwraps(fn)\n\u001b[1;32m     21\u001b[0m \u001b[38;5;28;01mdef\u001b[39;00m \u001b[38;5;21minner\u001b[39m(\u001b[38;5;241m*\u001b[39margs, \u001b[38;5;241m*\u001b[39m\u001b[38;5;241m*\u001b[39mkwargs):\n\u001b[1;32m     22\u001b[0m     \u001b[38;5;28;01mimport\u001b[39;00m \u001b[38;5;21;01mtorch\u001b[39;00m\u001b[38;5;21;01m.\u001b[39;00m\u001b[38;5;21;01m_dynamo\u001b[39;00m\n\u001b[0;32m---> 24\u001b[0m     \u001b[38;5;28;01mreturn\u001b[39;00m torch\u001b[38;5;241m.\u001b[39m_dynamo\u001b[38;5;241m.\u001b[39mdisable(fn, recursive)(\u001b[38;5;241m*\u001b[39margs, \u001b[38;5;241m*\u001b[39m\u001b[38;5;241m*\u001b[39mkwargs)\n",
      "File \u001b[0;32m~/anaconda3/lib/python3.11/site-packages/torch/_dynamo/eval_frame.py:328\u001b[0m, in \u001b[0;36m_TorchDynamoContext.__call__.<locals>._fn\u001b[0;34m(*args, **kwargs)\u001b[0m\n\u001b[1;32m    326\u001b[0m dynamic_ctx\u001b[38;5;241m.\u001b[39m\u001b[38;5;21m__enter__\u001b[39m()\n\u001b[1;32m    327\u001b[0m \u001b[38;5;28;01mtry\u001b[39;00m:\n\u001b[0;32m--> 328\u001b[0m     \u001b[38;5;28;01mreturn\u001b[39;00m fn(\u001b[38;5;241m*\u001b[39margs, \u001b[38;5;241m*\u001b[39m\u001b[38;5;241m*\u001b[39mkwargs)\n\u001b[1;32m    329\u001b[0m \u001b[38;5;28;01mfinally\u001b[39;00m:\n\u001b[1;32m    330\u001b[0m     set_eval_frame(prior)\n",
      "File \u001b[0;32m~/anaconda3/lib/python3.11/site-packages/torch/optim/optimizer.py:803\u001b[0m, in \u001b[0;36mOptimizer.zero_grad\u001b[0;34m(self, set_to_none)\u001b[0m\n\u001b[1;32m    800\u001b[0m \u001b[38;5;28;01melse\u001b[39;00m:\n\u001b[1;32m    801\u001b[0m     per_device_and_dtype_grads \u001b[38;5;241m=\u001b[39m \u001b[38;5;28;01mNone\u001b[39;00m\n\u001b[0;32m--> 803\u001b[0m \u001b[38;5;28;01mwith\u001b[39;00m torch\u001b[38;5;241m.\u001b[39mautograd\u001b[38;5;241m.\u001b[39mprofiler\u001b[38;5;241m.\u001b[39mrecord_function(\u001b[38;5;28mself\u001b[39m\u001b[38;5;241m.\u001b[39m_zero_grad_profile_name):\n\u001b[1;32m    804\u001b[0m     \u001b[38;5;28;01mfor\u001b[39;00m group \u001b[38;5;129;01min\u001b[39;00m \u001b[38;5;28mself\u001b[39m\u001b[38;5;241m.\u001b[39mparam_groups:\n\u001b[1;32m    805\u001b[0m         \u001b[38;5;28;01mfor\u001b[39;00m p \u001b[38;5;129;01min\u001b[39;00m group[\u001b[38;5;124m'\u001b[39m\u001b[38;5;124mparams\u001b[39m\u001b[38;5;124m'\u001b[39m]:\n",
      "File \u001b[0;32m~/anaconda3/lib/python3.11/site-packages/torch/autograd/profiler.py:648\u001b[0m, in \u001b[0;36mrecord_function.__exit__\u001b[0;34m(self, exc_type, exc_value, traceback)\u001b[0m\n\u001b[1;32m    646\u001b[0m \u001b[38;5;28;01mif\u001b[39;00m \u001b[38;5;129;01mnot\u001b[39;00m torch\u001b[38;5;241m.\u001b[39mjit\u001b[38;5;241m.\u001b[39mis_scripting():\n\u001b[1;32m    647\u001b[0m     \u001b[38;5;28;01mwith\u001b[39;00m torch\u001b[38;5;241m.\u001b[39m_C\u001b[38;5;241m.\u001b[39mDisableTorchFunctionSubclass():\n\u001b[0;32m--> 648\u001b[0m         torch\u001b[38;5;241m.\u001b[39mops\u001b[38;5;241m.\u001b[39mprofiler\u001b[38;5;241m.\u001b[39m_record_function_exit\u001b[38;5;241m.\u001b[39m_RecordFunction(record)\n\u001b[1;32m    649\u001b[0m \u001b[38;5;28;01melse\u001b[39;00m:\n\u001b[1;32m    650\u001b[0m     torch\u001b[38;5;241m.\u001b[39mops\u001b[38;5;241m.\u001b[39mprofiler\u001b[38;5;241m.\u001b[39m_record_function_exit(record)\n",
      "File \u001b[0;32m~/anaconda3/lib/python3.11/site-packages/torch/_ops.py:448\u001b[0m, in \u001b[0;36mOpOverload.__call__\u001b[0;34m(self, *args, **kwargs)\u001b[0m\n\u001b[1;32m    447\u001b[0m \u001b[38;5;28;01mdef\u001b[39;00m \u001b[38;5;21m__call__\u001b[39m(\u001b[38;5;28mself\u001b[39m, \u001b[38;5;241m*\u001b[39margs, \u001b[38;5;241m*\u001b[39m\u001b[38;5;241m*\u001b[39mkwargs):\n\u001b[0;32m--> 448\u001b[0m     \u001b[38;5;28;01mreturn\u001b[39;00m \u001b[38;5;28mself\u001b[39m\u001b[38;5;241m.\u001b[39m_op(\u001b[38;5;241m*\u001b[39margs, \u001b[38;5;241m*\u001b[39m\u001b[38;5;241m*\u001b[39mkwargs \u001b[38;5;129;01mor\u001b[39;00m {})\n",
      "File \u001b[0;32m~/anaconda3/lib/python3.11/site-packages/torch/utils/_device.py:77\u001b[0m, in \u001b[0;36mDeviceContext.__torch_function__\u001b[0;34m(self, func, types, args, kwargs)\u001b[0m\n\u001b[1;32m     75\u001b[0m \u001b[38;5;28;01mif\u001b[39;00m func \u001b[38;5;129;01min\u001b[39;00m _device_constructors() \u001b[38;5;129;01mand\u001b[39;00m kwargs\u001b[38;5;241m.\u001b[39mget(\u001b[38;5;124m'\u001b[39m\u001b[38;5;124mdevice\u001b[39m\u001b[38;5;124m'\u001b[39m) \u001b[38;5;129;01mis\u001b[39;00m \u001b[38;5;28;01mNone\u001b[39;00m:\n\u001b[1;32m     76\u001b[0m     kwargs[\u001b[38;5;124m'\u001b[39m\u001b[38;5;124mdevice\u001b[39m\u001b[38;5;124m'\u001b[39m] \u001b[38;5;241m=\u001b[39m \u001b[38;5;28mself\u001b[39m\u001b[38;5;241m.\u001b[39mdevice\n\u001b[0;32m---> 77\u001b[0m \u001b[38;5;28;01mreturn\u001b[39;00m func(\u001b[38;5;241m*\u001b[39margs, \u001b[38;5;241m*\u001b[39m\u001b[38;5;241m*\u001b[39mkwargs)\n",
      "File \u001b[0;32m~/anaconda3/lib/python3.11/site-packages/torch/_ops.py:448\u001b[0m, in \u001b[0;36mOpOverload.__call__\u001b[0;34m(self, *args, **kwargs)\u001b[0m\n\u001b[1;32m    447\u001b[0m \u001b[38;5;28;01mdef\u001b[39;00m \u001b[38;5;21m__call__\u001b[39m(\u001b[38;5;28mself\u001b[39m, \u001b[38;5;241m*\u001b[39margs, \u001b[38;5;241m*\u001b[39m\u001b[38;5;241m*\u001b[39mkwargs):\n\u001b[0;32m--> 448\u001b[0m     \u001b[38;5;28;01mreturn\u001b[39;00m \u001b[38;5;28mself\u001b[39m\u001b[38;5;241m.\u001b[39m_op(\u001b[38;5;241m*\u001b[39margs, \u001b[38;5;241m*\u001b[39m\u001b[38;5;241m*\u001b[39mkwargs \u001b[38;5;129;01mor\u001b[39;00m {})\n",
      "\u001b[0;31mKeyboardInterrupt\u001b[0m: "
     ]
    }
   ],
   "source": [
    "#torch.autograd.set_detect_anomaly(True)\n",
    "# Fit the solver\n",
    "solver.fit(15000000,\n",
    "               callbacks = [scheduler_cb])"
   ]
  },
  {
   "cell_type": "code",
   "execution_count": 13,
   "id": "eq6s9o1QhovA",
   "metadata": {
    "id": "eq6s9o1QhovA"
   },
   "outputs": [
    {
     "name": "stdout",
     "output_type": "stream",
     "text": [
      "0.0002966344271830816\n"
     ]
    }
   ],
   "source": [
    "for g in adam.param_groups:\n",
    "  print(g['lr'])\n",
    "  #g['lr'] = 1e-5"
   ]
  },
  {
   "cell_type": "code",
   "execution_count": 14,
   "id": "6gUY3NBNMUoU",
   "metadata": {
    "id": "6gUY3NBNMUoU"
   },
   "outputs": [
    {
     "data": {
      "image/png": "[encoded data removed]",
      "text/plain": [
       "<Figure size 800x800 with 1 Axes>"
      ]
     },
     "metadata": {},
     "output_type": "display_data"
    }
   ],
   "source": [
    "## Plot training history\n",
    "history = solver.metrics_history\n",
    "plt.plot(history['train_loss'], label = 'Train')\n",
    "#print(history['add_loss'])\n",
    "#plt.plot(history['add_loss'], label = 'Add')\n",
    "\n",
    "\n",
    "#\n",
    "#if len(history['valid_loss']) != 0:\n",
    "#    plt.plot(history['valid_loss'], label = 'Validation')\n",
    "\n",
    "# Add axis labels, title and legend for clarity\n",
    "plt.title('Loss plot')\n",
    "plt.xlabel('epochs')\n",
    "plt.ylabel('Loss')\n",
    "plt.yscale('log')\n",
    "plt.grid(True)\n",
    "plt.legend(loc='upper center', bbox_to_anchor=(0.5, -0.15), ncol=1)\n",
    "plt.savefig('loss_body_one_head.pdf')\n",
    "plt.show()"
   ]
  },
  {
   "cell_type": "code",
   "execution_count": 15,
   "id": "QQ8dHQ7oMUoU",
   "metadata": {
    "id": "QQ8dHQ7oMUoU"
   },
   "outputs": [],
   "source": [
    "\n",
    "#a_vals = np.linspace(0,2,100)"
   ]
  },
  {
   "cell_type": "code",
   "execution_count": 16,
   "id": "OOc8gkGNMUoU",
   "metadata": {
    "id": "OOc8gkGNMUoU"
   },
   "outputs": [
    {
     "data": {
      "image/png": "[encoded data removed]",
      "text/plain": [
       "<Figure size 800x800 with 1 Axes>"
      ]
     },
     "metadata": {},
     "output_type": "display_data"
    },
    {
     "name": "stdout",
     "output_type": "stream",
     "text": [
      "torch.Size([100])\n",
      "400.0\n"
     ]
    }
   ],
   "source": [
    "# Plot the variations of solutions for 5 values between a_min and a_max.\n",
    "from scipy.integrate import solve_ivp\n",
    "\n",
    "def flame_equation(t, y):\n",
    "    return rho*(y**2 - y**3)\n",
    "\n",
    "for head in range(solver.n_heads):\n",
    "  t_vals = np.linspace(t_min, 2/min(a_list*rho), 200)\n",
    "  #t_vals = np.linspace(t_min,0.1, 200)\n",
    "  solver.best_nets = nets[:,head]\n",
    "  solution = solver.get_solution(best=True)\n",
    "  a = a_list[head]*np.ones_like(t_vals)\n",
    "  y1 = solution(t_vals,a)\n",
    "  plt.plot(t_vals,y1.cpu().detach().numpy(),label = 'a = ' + str(round(a_list[head],3)))\n",
    "  t_min = 0.0\n",
    "  t_max = 2/min(a_list*rho)\n",
    "  y0 = [a_list[head]]  # Starting with a small initial value for y\n",
    "  t_span = (t_min, t_max)\n",
    "  t_eval = np.linspace(t_span[0], t_span[1], 5000)\n",
    "  sol = solve_ivp(flame_equation, t_span, y0, t_eval=t_eval, method='RK45')\n",
    "  plt.plot(sol.t, sol.y[0],label = 'Exact',linestyle = 'dashed', linewidth = 3)\n",
    "plt.legend()\n",
    "plt.savefig('MH_solutions_one_head.pdf')\n",
    "plt.show()\n",
    "\n",
    "print(solver.all_generators[0].get_examples()[0].shape)\n",
    "print(2/a_list[0] * 3)"
   ]
  },
  {
   "cell_type": "code",
   "execution_count": 17,
   "id": "28JcBUm9PBah",
   "metadata": {
    "id": "28JcBUm9PBah"
   },
   "outputs": [],
   "source": [
    "\n",
    "# Try to compute the 2x2 metric of this problem #"
   ]
  },
  {
   "cell_type": "markdown",
   "id": "xh-7VkkqKR1u",
   "metadata": {
    "id": "xh-7VkkqKR1u"
   },
   "source": [
    "The idea that we got was the following. Imagine that we are training on a set of $t \\in (0,1)$, and a set of the bundle parameter $ a \\in (0,2)$. It is important that we are training a multihead, which ouput of the body can be expressed as $\\vec{H}(t,a)$. Then, we can construct a geometry given by the following coordinates:\n",
    "$$\\hat{\\Omega} = (t,a,\\vec{H}(t,a))$$\n",
    "The metric can be computed as follows\n",
    "$$g_{\\mu\\nu} \\,=\\, \\partial_\\mu \\hat{\\Omega} \\cdot\\partial_\\nu \\hat{\\Omega}$$"
   ]
  },
  {
   "cell_type": "code",
   "execution_count": 18,
   "id": "7P07MI8dKQwR",
   "metadata": {
    "colab": {
     "base_uri": "https://localhost:8080/"
    },
    "id": "7P07MI8dKQwR",
    "outputId": "08a1c823-ee0a-4017-eb8f-973db054bd00"
   },
   "outputs": [
    {
     "name": "stdout",
     "output_type": "stream",
     "text": [
      "torch.Size([10000, 64]) torch.Size([10000, 2])\n",
      "0.6072571277618408\n"
     ]
    }
   ],
   "source": [
    "import time\n",
    "import copy\n",
    "from neurodiffeq import diff\n",
    "\n",
    "start = time.time()\n",
    "\n",
    "t = torch.linspace(t_min+0.02,t_max,100,requires_grad=True)\n",
    "a = torch.linspace(a_min,a_max,100,requires_grad=True)\n",
    "T,A = torch.meshgrid(t,a,indexing = 'ij')\n",
    "g_MAT = torch.ones_like(T)\n",
    "g_det = torch.ones_like(T)\n",
    "\n",
    "x = torch.cat([T.reshape(-1,1),A.reshape(-1,1)],dim = 1)  # t and a #\n",
    "H = solver.best_nets[0].H_model(x)\n",
    "print(H.shape,x.shape)\n",
    "Omega = torch.cat([x,H],dim = 1)\n",
    "\n",
    "#gmunu = torch.zeros([len(x),len(x)])\n",
    "partial_omega = []\n",
    "for j in range(Omega.shape[1]):\n",
    "  partial_omega.append(diff(Omega[:,j],x,shape_check = False))\n",
    "partial_omega = torch.stack(partial_omega)   # [Coordinate index, sampling , metric dimension] #\n",
    "partial_omega = torch.transpose(partial_omega,dim0 = 0,dim1 = 1) # [sampling ,coordinate index, metric dimension] #\n",
    "\n",
    "T,A = torch.meshgrid(t,a,indexing = 'ij')\n",
    "g_MAT = torch.matmul(torch.transpose(partial_omega,dim0 = 1,dim1 = 2),partial_omega )\n",
    "g_det = torch.sqrt(torch.linalg.det(g_MAT)).reshape_as(T)\n",
    "end = time.time()\n",
    "print(end - start)"
   ]
  },
  {
   "cell_type": "code",
   "execution_count": 19,
   "id": "xCfRRemBPvAI",
   "metadata": {
    "colab": {
     "base_uri": "https://localhost:8080/",
     "height": 743
    },
    "id": "xCfRRemBPvAI",
    "outputId": "e1edbd4a-20df-4f5a-abbc-b2a24750e87a"
   },
   "outputs": [
    {
     "data": {
      "image/png": "[encoded data removed]",
      "text/plain": [
       "<Figure size 800x800 with 2 Axes>"
      ]
     },
     "metadata": {},
     "output_type": "display_data"
    }
   ],
   "source": [
    "import matplotlib.colors as colors\n",
    "plt.pcolormesh(T.cpu().detach().numpy(),A.cpu().detach().numpy(),g_det.cpu().detach().numpy(),cmap = 'rainbow')\n",
    "plt.colorbar()\n",
    "plt.title('$\\sqrt{|g|}$')\n",
    "plt.xlabel('t')\n",
    "plt.ylabel('a')\n",
    "plt.savefig('metric_one_head.pdf')\n",
    "plt.show()"
   ]
  },
  {
   "cell_type": "code",
   "execution_count": 276,
   "id": "P-uCo-71YJqU",
   "metadata": {
    "id": "P-uCo-71YJqU"
   },
   "outputs": [
    {
     "ename": "IndexError",
     "evalue": "index 1 is out of bounds for axis 0 with size 1",
     "output_type": "error",
     "traceback": [
      "\u001b[0;31m---------------------------------------------------------------------------\u001b[0m",
      "\u001b[0;31mIndexError\u001b[0m                                Traceback (most recent call last)",
      "Cell \u001b[0;32mIn[276], line 14\u001b[0m\n\u001b[1;32m     11\u001b[0m g_det \u001b[38;5;241m=\u001b[39m torch\u001b[38;5;241m.\u001b[39mones_like(T)\n\u001b[1;32m     13\u001b[0m x \u001b[38;5;241m=\u001b[39m torch\u001b[38;5;241m.\u001b[39mcat([T\u001b[38;5;241m.\u001b[39mreshape(\u001b[38;5;241m-\u001b[39m\u001b[38;5;241m1\u001b[39m,\u001b[38;5;241m1\u001b[39m),A\u001b[38;5;241m.\u001b[39mreshape(\u001b[38;5;241m-\u001b[39m\u001b[38;5;241m1\u001b[39m,\u001b[38;5;241m1\u001b[39m)],dim \u001b[38;5;241m=\u001b[39m \u001b[38;5;241m1\u001b[39m)  \u001b[38;5;66;03m# t and a #\u001b[39;00m\n\u001b[0;32m---> 14\u001b[0m H \u001b[38;5;241m=\u001b[39m solver\u001b[38;5;241m.\u001b[39mbest_nets[\u001b[38;5;241m1\u001b[39m]\u001b[38;5;241m.\u001b[39mH_model(x)\n\u001b[1;32m     15\u001b[0m \u001b[38;5;28mprint\u001b[39m(H\u001b[38;5;241m.\u001b[39mshape,x\u001b[38;5;241m.\u001b[39mshape)\n\u001b[1;32m     16\u001b[0m Omega \u001b[38;5;241m=\u001b[39m torch\u001b[38;5;241m.\u001b[39mcat([x,H],dim \u001b[38;5;241m=\u001b[39m \u001b[38;5;241m1\u001b[39m)\n",
      "\u001b[0;31mIndexError\u001b[0m: index 1 is out of bounds for axis 0 with size 1"
     ]
    }
   ],
   "source": [
    "import time\n",
    "import copy\n",
    "from neurodiffeq import diff\n",
    "\n",
    "start = time.time()\n",
    "\n",
    "t = torch.linspace(t_min,t_max,80,requires_grad=True)\n",
    "a = torch.linspace(a_min,a_max,70,requires_grad=True)\n",
    "T,A = torch.meshgrid(t,a,indexing = 'ij')\n",
    "g_MAT = torch.ones_like(T)\n",
    "g_det = torch.ones_like(T)\n",
    "\n",
    "x = torch.cat([T.reshape(-1,1),A.reshape(-1,1)],dim = 1)  # t and a #\n",
    "H = solver.best_nets[1].H_model(x)\n",
    "print(H.shape,x.shape)\n",
    "Omega = torch.cat([x,H],dim = 1)\n",
    "\n",
    "#gmunu = torch.zeros([len(x),len(x)])\n",
    "partial_omega = []\n",
    "for j in range(Omega.shape[1]):\n",
    "  partial_omega.append(diff(Omega[:,j],x,shape_check = False))\n",
    "partial_omega = torch.stack(partial_omega)   # [Coordinate index, sampling , metric dimension] #\n",
    "partial_omega = torch.transpose(partial_omega,dim0 = 0,dim1 = 1) # [sampling ,coordinate index, metric dimension] #\n",
    "\n",
    "T,A = torch.meshgrid(t,a,indexing = 'ij')\n",
    "g_MAT = torch.matmul(torch.transpose(partial_omega,dim0 = 1,dim1 = 2),partial_omega )\n",
    "g_det = torch.sqrt(torch.linalg.det(g_MAT)).reshape_as(T)\n",
    "end = time.time()\n",
    "print(end - start)"
   ]
  },
  {
   "cell_type": "code",
   "execution_count": null,
   "id": "wM7RPB1fYMLt",
   "metadata": {
    "id": "wM7RPB1fYMLt"
   },
   "outputs": [],
   "source": [
    "import matplotlib.colors as colors\n",
    "plt.pcolormesh(T.cpu().detach().numpy(),A.cpu().detach().numpy(),g_det.cpu().detach().numpy(),cmap = 'rainbow')\n",
    "plt.colorbar()\n",
    "plt.title('$\\sqrt{|g|}$')\n",
    "plt.xlabel('t')\n",
    "plt.ylabel('a')\n",
    "plt.savefig('metric_y(t).pdf')\n",
    "plt.show()"
   ]
  },
  {
   "cell_type": "code",
   "execution_count": 277,
   "id": "aWA3FMbLcV2d",
   "metadata": {
    "id": "aWA3FMbLcV2d"
   },
   "outputs": [],
   "source": [
    "save_nets('15e5_flat',nets,adam,solver)"
   ]
  },
  {
   "cell_type": "markdown",
   "id": "fgYxhfhuzVaD",
   "metadata": {
    "id": "fgYxhfhuzVaD"
   },
   "source": [
    "# TRANSFER LEARNING"
   ]
  },
  {
   "cell_type": "code",
   "execution_count": null,
   "id": "tg98_kNgzWxv",
   "metadata": {
    "id": "tg98_kNgzWxv"
   },
   "outputs": [],
   "source": [
    "# Initialize t_min, t_max, a_min and a_max\n",
    "\n",
    "a_min = 0.0\n",
    "a_max = 0.0\n",
    "\n",
    "rho = 300\n",
    "\n",
    "a_list = [0.010]\n",
    "t_min = 0.0\n",
    "t_max = 2/(a_list[0]*rho)\n",
    "print(t_max)\n",
    "\n",
    "#a_list = np.linspace(a_min,a_max,9)\n",
    "n_heads = 1\n",
    "\n",
    "# Create the body and the nets #\n",
    "H_NEW = [FCNN(n_input_units=2, hidden_units=[64,64,64], n_output_units = 64) for _ in range(1)]\n",
    "\n",
    "heads_NEW = [[FCNN(n_input_units=64, hidden_units=[32,32], n_output_units = 1) for _ in range(n_heads)]for _ in range(len(H_NEW))]\n",
    "\n",
    "nets = np.ones([len(H_NEW),n_heads],dtype=nn.Module) # i -> equation, j -> head #\n",
    "for i in range(len(H_NEW)):\n",
    "    #print(i)\n",
    "    for j in range(n_heads):\n",
    "        nets[i,j] = NET_FREEZE(H_NEW[i],heads_NEW[i][j])\n",
    "\n",
    "# Create the equations #\n",
    "eq_dict = {}\n",
    "eq_dict = generate_equations(n_heads = n_heads)\n",
    "#print(self.eq_dict)\n",
    "equation_list = []\n",
    "for head in range(n_heads):\n",
    "    equations = eq_dict[f'equations_{head}']\n",
    "    #print(equations)\n",
    "    equation_list.append(equations)\n",
    "\n",
    "print('Equation list ready')\n",
    "\n",
    "print(nets.shape)\n",
    "\n",
    "#gen = Generator1D(48,t_min,t_max,'equally-spaced-noisy')\n",
    "\n",
    "adam = torch.optim.Adam(OrderedSet([ p for q in range(n_heads) for net in list(nets[:,q]) \n",
    "                                    for p in net.parameters()]), lr=2e-3)\n",
    "\n",
    "scheduler = torch.optim.lr_scheduler.StepLR(adam, step_size=60000, gamma=0.98)\n",
    "scheduler_cb = DoSchedulerStep(scheduler=scheduler)\n",
    "\n",
    "# Define the initial conditions\n",
    "\n",
    "init_val = [BundleIVP(t_min,None, bundle_param_lookup={'u_0': 0})]\n",
    "\n",
    "# Initialize the solver\n",
    "solver = Solver1D_MH(a_list = a_list,\n",
    "    all_nets = nets,\n",
    "    t_sampling = 64,\n",
    "    optimizer = adam,\n",
    "    ode_system =  equation_list,\n",
    "    conditions = init_val,\n",
    "    t_min = t_min,\n",
    "    t_max = t_max,\n",
    "    flatten = False,\n",
    "    n_batches_valid = 0,\n",
    "    change_gen = True\n",
    "   #train_generator=gen,\n",
    ")\n",
    "\n",
    "# LOAD THE DATA #\n",
    "load_nets('MH_004_002_15e5/15e5_flat',nets = nets, optim = adam,solver = solver)"
   ]
  },
  {
   "cell_type": "code",
   "execution_count": 39,
   "id": "HbzDwfC11BuL",
   "metadata": {
    "id": "HbzDwfC11BuL"
   },
   "outputs": [
    {
     "data": {
      "application/vnd.jupyter.widget-view+json": {
       "model_id": "20a82cfd26994fc7bfcf4a10635e5234",
       "version_major": 2,
       "version_minor": 0
      },
      "text/plain": [
       "Training Progress:   0%|                            | 0/9000000 [00:00<?, ?it/s]"
      ]
     },
     "metadata": {},
     "output_type": "display_data"
    },
    {
     "ename": "KeyboardInterrupt",
     "evalue": "",
     "output_type": "error",
     "traceback": [
      "\u001b[0;31m---------------------------------------------------------------------------\u001b[0m",
      "\u001b[0;31mKeyboardInterrupt\u001b[0m                         Traceback (most recent call last)",
      "Cell \u001b[0;32mIn[39], line 3\u001b[0m\n\u001b[1;32m      1\u001b[0m \u001b[38;5;66;03m#torch.autograd.set_detect_anomaly(True)\u001b[39;00m\n\u001b[1;32m      2\u001b[0m \u001b[38;5;66;03m# Fit the solver\u001b[39;00m\n\u001b[0;32m----> 3\u001b[0m solver\u001b[38;5;241m.\u001b[39mfit(\u001b[38;5;241m9000000\u001b[39m,\n\u001b[1;32m      4\u001b[0m                callbacks \u001b[38;5;241m=\u001b[39m [scheduler_cb])\n",
      "Cell \u001b[0;32mIn[6], line 310\u001b[0m, in \u001b[0;36mSolver1D_MH.fit\u001b[0;34m(self, max_epochs, callbacks, tqdm_file, **kwargs)\u001b[0m\n\u001b[1;32m    308\u001b[0m \u001b[38;5;28mself\u001b[39m\u001b[38;5;241m.\u001b[39mlocal_epoch \u001b[38;5;241m=\u001b[39m local_epoch \u001b[38;5;241m+\u001b[39m \u001b[38;5;241m1\u001b[39m\n\u001b[1;32m    309\u001b[0m \u001b[38;5;66;03m#self.run_train_epoch()\u001b[39;00m\n\u001b[0;32m--> 310\u001b[0m \u001b[38;5;28mself\u001b[39m\u001b[38;5;241m.\u001b[39mrun_custom_epoch()\n\u001b[1;32m    311\u001b[0m \u001b[38;5;28mself\u001b[39m\u001b[38;5;241m.\u001b[39mrun_valid_epoch()\n\u001b[1;32m    312\u001b[0m \u001b[38;5;28;01mfor\u001b[39;00m cb \u001b[38;5;129;01min\u001b[39;00m callbacks:\n",
      "Cell \u001b[0;32mIn[6], line 242\u001b[0m, in \u001b[0;36mSolver1D_MH.run_custom_epoch\u001b[0;34m(self)\u001b[0m\n\u001b[1;32m    240\u001b[0m \u001b[38;5;28;01mdef\u001b[39;00m \u001b[38;5;21mrun_custom_epoch\u001b[39m(\u001b[38;5;28mself\u001b[39m):\n\u001b[1;32m    241\u001b[0m \u001b[38;5;250m    \u001b[39m\u001b[38;5;124mr\u001b[39m\u001b[38;5;124;03m\"\"\"Run a training epoch, update history, and perform gradient descent.\"\"\"\u001b[39;00m\n\u001b[0;32m--> 242\u001b[0m     \u001b[38;5;28mself\u001b[39m\u001b[38;5;241m.\u001b[39mcustom_epoch(\u001b[38;5;124m'\u001b[39m\u001b[38;5;124mtrain\u001b[39m\u001b[38;5;124m'\u001b[39m)\n",
      "Cell \u001b[0;32mIn[6], line 180\u001b[0m, in \u001b[0;36mSolver1D_MH.custom_epoch\u001b[0;34m(self, key)\u001b[0m\n\u001b[1;32m    175\u001b[0m     \u001b[38;5;28;01mreturn\u001b[39;00m loss  \u001b[38;5;66;03m#, add_loss, DE_loss\u001b[39;00m\n\u001b[1;32m    177\u001b[0m \u001b[38;5;28;01mif\u001b[39;00m key \u001b[38;5;241m==\u001b[39m \u001b[38;5;124m'\u001b[39m\u001b[38;5;124mtrain\u001b[39m\u001b[38;5;124m'\u001b[39m:\n\u001b[1;32m    178\u001b[0m \n\u001b[1;32m    179\u001b[0m         \u001b[38;5;66;03m# Optimizer step will be performed only once outside the for-loop (i.e. after all batches).\u001b[39;00m\n\u001b[0;32m--> 180\u001b[0m     closure(zero_grad\u001b[38;5;241m=\u001b[39m\u001b[38;5;28;01mFalse\u001b[39;00m)    \u001b[38;5;66;03m#closure(zero_grad=False) was inside else in initial code\u001b[39;00m\n\u001b[1;32m    182\u001b[0m     \u001b[38;5;66;03m#print('key 2.batch')\u001b[39;00m\n\u001b[1;32m    184\u001b[0m     head_epoch_loss \u001b[38;5;241m+\u001b[39m\u001b[38;5;241m=\u001b[39m batch_loss\n",
      "Cell \u001b[0;32mIn[6], line 167\u001b[0m, in \u001b[0;36mSolver1D_MH.custom_epoch.<locals>.closure\u001b[0;34m(zero_grad)\u001b[0m\n\u001b[1;32m    163\u001b[0m  \u001b[38;5;66;03m# accumulate gradients before the current graph is collected as garbage\u001b[39;00m\n\u001b[1;32m    164\u001b[0m \n\u001b[1;32m    165\u001b[0m  \u001b[38;5;66;03m#DOING BACKPROPAGATION\u001b[39;00m\n\u001b[1;32m    166\u001b[0m  \u001b[38;5;28;01mif\u001b[39;00m key \u001b[38;5;241m==\u001b[39m \u001b[38;5;124m'\u001b[39m\u001b[38;5;124mtrain\u001b[39m\u001b[38;5;124m'\u001b[39m:\n\u001b[0;32m--> 167\u001b[0m      loss\u001b[38;5;241m.\u001b[39mbackward()\n\u001b[1;32m    168\u001b[0m      batch_loss \u001b[38;5;241m=\u001b[39m loss\u001b[38;5;241m.\u001b[39mitem()\n\u001b[1;32m    169\u001b[0m    \u001b[38;5;66;03m#  batch_add_loss = add_loss.item()\u001b[39;00m\n\u001b[1;32m    170\u001b[0m     \u001b[38;5;66;03m# batch_DE_loss = DE_loss.item()\u001b[39;00m\n\u001b[1;32m    171\u001b[0m      \u001b[38;5;66;03m#print('0',batch_loss)\u001b[39;00m\n\u001b[1;32m    172\u001b[0m \n\u001b[1;32m    173\u001b[0m \u001b[38;5;66;03m# print(loss,add_loss,DE_loss)\u001b[39;00m\n",
      "File \u001b[0;32m~/anaconda3/lib/python3.11/site-packages/torch/_tensor.py:483\u001b[0m, in \u001b[0;36mTensor.backward\u001b[0;34m(self, gradient, retain_graph, create_graph, inputs)\u001b[0m\n\u001b[1;32m    436\u001b[0m \u001b[38;5;250m\u001b[39m\u001b[38;5;124mr\u001b[39m\u001b[38;5;124;03m\"\"\"Computes the gradient of current tensor wrt graph leaves.\u001b[39;00m\n\u001b[1;32m    437\u001b[0m \n\u001b[1;32m    438\u001b[0m \u001b[38;5;124;03mThe graph is differentiated using the chain rule. If the tensor is\u001b[39;00m\n\u001b[0;32m   (...)\u001b[0m\n\u001b[1;32m    480\u001b[0m \u001b[38;5;124;03m        used to compute the attr::tensors.\u001b[39;00m\n\u001b[1;32m    481\u001b[0m \u001b[38;5;124;03m\"\"\"\u001b[39;00m\n\u001b[1;32m    482\u001b[0m \u001b[38;5;28;01mif\u001b[39;00m has_torch_function_unary(\u001b[38;5;28mself\u001b[39m):\n\u001b[0;32m--> 483\u001b[0m     \u001b[38;5;28;01mreturn\u001b[39;00m handle_torch_function(\n\u001b[1;32m    484\u001b[0m         Tensor\u001b[38;5;241m.\u001b[39mbackward,\n\u001b[1;32m    485\u001b[0m         (\u001b[38;5;28mself\u001b[39m,),\n\u001b[1;32m    486\u001b[0m         \u001b[38;5;28mself\u001b[39m,\n\u001b[1;32m    487\u001b[0m         gradient\u001b[38;5;241m=\u001b[39mgradient,\n\u001b[1;32m    488\u001b[0m         retain_graph\u001b[38;5;241m=\u001b[39mretain_graph,\n\u001b[1;32m    489\u001b[0m         create_graph\u001b[38;5;241m=\u001b[39mcreate_graph,\n\u001b[1;32m    490\u001b[0m         inputs\u001b[38;5;241m=\u001b[39minputs,\n\u001b[1;32m    491\u001b[0m     )\n\u001b[1;32m    492\u001b[0m torch\u001b[38;5;241m.\u001b[39mautograd\u001b[38;5;241m.\u001b[39mbackward(\n\u001b[1;32m    493\u001b[0m     \u001b[38;5;28mself\u001b[39m, gradient, retain_graph, create_graph, inputs\u001b[38;5;241m=\u001b[39minputs\n\u001b[1;32m    494\u001b[0m )\n",
      "File \u001b[0;32m~/anaconda3/lib/python3.11/site-packages/torch/overrides.py:1560\u001b[0m, in \u001b[0;36mhandle_torch_function\u001b[0;34m(public_api, relevant_args, *args, **kwargs)\u001b[0m\n\u001b[1;32m   1556\u001b[0m \u001b[38;5;28;01mif\u001b[39;00m _is_torch_function_mode_enabled():\n\u001b[1;32m   1557\u001b[0m     \u001b[38;5;66;03m# if we're here, the mode must be set to a TorchFunctionStackMode\u001b[39;00m\n\u001b[1;32m   1558\u001b[0m     \u001b[38;5;66;03m# this unsets it and calls directly into TorchFunctionStackMode's torch function\u001b[39;00m\n\u001b[1;32m   1559\u001b[0m     \u001b[38;5;28;01mwith\u001b[39;00m _pop_mode_temporarily() \u001b[38;5;28;01mas\u001b[39;00m mode:\n\u001b[0;32m-> 1560\u001b[0m         result \u001b[38;5;241m=\u001b[39m mode\u001b[38;5;241m.\u001b[39m__torch_function__(public_api, types, args, kwargs)\n\u001b[1;32m   1561\u001b[0m     \u001b[38;5;28;01mif\u001b[39;00m result \u001b[38;5;129;01mis\u001b[39;00m \u001b[38;5;129;01mnot\u001b[39;00m \u001b[38;5;28mNotImplemented\u001b[39m:\n\u001b[1;32m   1562\u001b[0m         \u001b[38;5;28;01mreturn\u001b[39;00m result\n",
      "File \u001b[0;32m~/anaconda3/lib/python3.11/site-packages/torch/utils/_device.py:77\u001b[0m, in \u001b[0;36mDeviceContext.__torch_function__\u001b[0;34m(self, func, types, args, kwargs)\u001b[0m\n\u001b[1;32m     75\u001b[0m \u001b[38;5;28;01mif\u001b[39;00m func \u001b[38;5;129;01min\u001b[39;00m _device_constructors() \u001b[38;5;129;01mand\u001b[39;00m kwargs\u001b[38;5;241m.\u001b[39mget(\u001b[38;5;124m'\u001b[39m\u001b[38;5;124mdevice\u001b[39m\u001b[38;5;124m'\u001b[39m) \u001b[38;5;129;01mis\u001b[39;00m \u001b[38;5;28;01mNone\u001b[39;00m:\n\u001b[1;32m     76\u001b[0m     kwargs[\u001b[38;5;124m'\u001b[39m\u001b[38;5;124mdevice\u001b[39m\u001b[38;5;124m'\u001b[39m] \u001b[38;5;241m=\u001b[39m \u001b[38;5;28mself\u001b[39m\u001b[38;5;241m.\u001b[39mdevice\n\u001b[0;32m---> 77\u001b[0m \u001b[38;5;28;01mreturn\u001b[39;00m func(\u001b[38;5;241m*\u001b[39margs, \u001b[38;5;241m*\u001b[39m\u001b[38;5;241m*\u001b[39mkwargs)\n",
      "File \u001b[0;32m~/anaconda3/lib/python3.11/site-packages/torch/_tensor.py:492\u001b[0m, in \u001b[0;36mTensor.backward\u001b[0;34m(self, gradient, retain_graph, create_graph, inputs)\u001b[0m\n\u001b[1;32m    482\u001b[0m \u001b[38;5;28;01mif\u001b[39;00m has_torch_function_unary(\u001b[38;5;28mself\u001b[39m):\n\u001b[1;32m    483\u001b[0m     \u001b[38;5;28;01mreturn\u001b[39;00m handle_torch_function(\n\u001b[1;32m    484\u001b[0m         Tensor\u001b[38;5;241m.\u001b[39mbackward,\n\u001b[1;32m    485\u001b[0m         (\u001b[38;5;28mself\u001b[39m,),\n\u001b[0;32m   (...)\u001b[0m\n\u001b[1;32m    490\u001b[0m         inputs\u001b[38;5;241m=\u001b[39minputs,\n\u001b[1;32m    491\u001b[0m     )\n\u001b[0;32m--> 492\u001b[0m torch\u001b[38;5;241m.\u001b[39mautograd\u001b[38;5;241m.\u001b[39mbackward(\n\u001b[1;32m    493\u001b[0m     \u001b[38;5;28mself\u001b[39m, gradient, retain_graph, create_graph, inputs\u001b[38;5;241m=\u001b[39minputs\n\u001b[1;32m    494\u001b[0m )\n",
      "File \u001b[0;32m~/anaconda3/lib/python3.11/site-packages/torch/autograd/__init__.py:251\u001b[0m, in \u001b[0;36mbackward\u001b[0;34m(tensors, grad_tensors, retain_graph, create_graph, grad_variables, inputs)\u001b[0m\n\u001b[1;32m    246\u001b[0m     retain_graph \u001b[38;5;241m=\u001b[39m create_graph\n\u001b[1;32m    248\u001b[0m \u001b[38;5;66;03m# The reason we repeat the same comment below is that\u001b[39;00m\n\u001b[1;32m    249\u001b[0m \u001b[38;5;66;03m# some Python versions print out the first line of a multi-line function\u001b[39;00m\n\u001b[1;32m    250\u001b[0m \u001b[38;5;66;03m# calls in the traceback and some print out the last line\u001b[39;00m\n\u001b[0;32m--> 251\u001b[0m Variable\u001b[38;5;241m.\u001b[39m_execution_engine\u001b[38;5;241m.\u001b[39mrun_backward(  \u001b[38;5;66;03m# Calls into the C++ engine to run the backward pass\u001b[39;00m\n\u001b[1;32m    252\u001b[0m     tensors,\n\u001b[1;32m    253\u001b[0m     grad_tensors_,\n\u001b[1;32m    254\u001b[0m     retain_graph,\n\u001b[1;32m    255\u001b[0m     create_graph,\n\u001b[1;32m    256\u001b[0m     inputs,\n\u001b[1;32m    257\u001b[0m     allow_unreachable\u001b[38;5;241m=\u001b[39m\u001b[38;5;28;01mTrue\u001b[39;00m,\n\u001b[1;32m    258\u001b[0m     accumulate_grad\u001b[38;5;241m=\u001b[39m\u001b[38;5;28;01mTrue\u001b[39;00m,\n\u001b[1;32m    259\u001b[0m )\n",
      "\u001b[0;31mKeyboardInterrupt\u001b[0m: "
     ]
    }
   ],
   "source": [
    "#torch.autograd.set_detect_anomaly(True)\n",
    "# Fit the solver\n",
    "solver.fit(9000000,\n",
    "               callbacks = [scheduler_cb])"
   ]
  },
  {
   "cell_type": "code",
   "execution_count": 40,
   "id": "bGFtAomw1vaq",
   "metadata": {
    "id": "bGFtAomw1vaq"
   },
   "outputs": [
    {
     "name": "stdout",
     "output_type": "stream",
     "text": [
      "2.9895030276440234e-07\n"
     ]
    }
   ],
   "source": [
    "for g in adam.param_groups:\n",
    "  #g['lr'] = 6e-9\n",
    "  print(g['lr'])\n"
   ]
  },
  {
   "cell_type": "code",
   "execution_count": 41,
   "id": "vRBInlXj1qUN",
   "metadata": {
    "id": "vRBInlXj1qUN"
   },
   "outputs": [
    {
     "data": {
      "image/png": "[encoded data removed]",
      "text/plain": [
       "<Figure size 800x800 with 1 Axes>"
      ]
     },
     "metadata": {},
     "output_type": "display_data"
    },
    {
     "data": {
      "image/png": "[encoded data removed]",
      "text/plain": [
       "<Figure size 800x800 with 1 Axes>"
      ]
     },
     "metadata": {},
     "output_type": "display_data"
    }
   ],
   "source": [
    "\n",
    "\n",
    "## Plot training history\n",
    "t_vals = np.linspace(t_min, t_max, 100)\n",
    "history = solver.metrics_history\n",
    "plt.plot(history['train_loss'], label = 'Train')\n",
    "#print(history['add_loss'])\n",
    "#plt.plot(history['add_loss'], label = 'Add')\n",
    "\n",
    "\n",
    "#\n",
    "#if len(history['valid_loss']) != 0:\n",
    "#    plt.plot(history['valid_loss'], label = 'Validation')\n",
    "\n",
    "# Add axis labels, title and legend for clarity\n",
    "plt.title('Loss plot')\n",
    "plt.xlabel('epochs')\n",
    "plt.ylabel('Loss')\n",
    "plt.yscale('log')\n",
    "plt.grid(True)\n",
    "plt.legend(loc='upper center', bbox_to_anchor=(0.5, -0.15), ncol=1)\n",
    "plt.savefig('loss_transfer_flat.pdf')\n",
    "plt.show()\n",
    "\n",
    "# Plot the variations of solutions for 5 values between a_min and a_max.\n",
    "for head in range(solver.n_heads):\n",
    "  solver.best_nets = nets[:,head]\n",
    "  solution = solver.get_solution(best=True)\n",
    "  a = a_list[head]*np.ones_like(t_vals)\n",
    "  y1 = solution(t_vals,a)\n",
    "  plt.plot(t_vals,y1.cpu().detach().numpy(),label = 'a = ' + str(a_list[head]))\n",
    "plt.legend()\n",
    "plt.show()"
   ]
  },
  {
   "cell_type": "markdown",
   "id": "0AD9oqCyDn0r",
   "metadata": {
    "id": "0AD9oqCyDn0r"
   },
   "source": [
    "# Get the numerica solution"
   ]
  },
  {
   "cell_type": "code",
   "execution_count": 42,
   "id": "Hk3IF6xWDnLY",
   "metadata": {
    "id": "Hk3IF6xWDnLY"
   },
   "outputs": [
    {
     "data": {
      "image/png": "[encoded data removed]",
      "text/plain": [
       "<Figure size 700x700 with 1 Axes>"
      ]
     },
     "metadata": {},
     "output_type": "display_data"
    }
   ],
   "source": [
    "import numpy as np\n",
    "import matplotlib.pyplot as plt\n",
    "from scipy.integrate import solve_ivp\n",
    "\n",
    "# Define the Van der Pol oscillator equations\n",
    "def flame_equation(t, y):\n",
    "    return rho*(y**2 - y**3)\n",
    "\n",
    "\n",
    "# Runge-Kutta 4th order method\n",
    "def rk4_step(func, t, state, dt, mu):\n",
    "    k1 = func(t, state, mu)\n",
    "    k2 = func(t + dt/2, state + dt*k1/2, mu)\n",
    "    k3 = func(t + dt/2, state + dt*k2/2, mu)\n",
    "    k4 = func(t + dt, state + dt*k3, mu)\n",
    "    return state + (dt/6)*(k1 + 2*k2 + 2*k3 + k4)\n",
    "\n",
    "# Initial condition\n",
    "a_list = [0.010]\n",
    "\n",
    "t_min = 0.0\n",
    "t_max = 2/(a_list[0]*rho)\n",
    "\n",
    "a_min = 0.0\n",
    "a_max = 1.2\n",
    "\n",
    "\n",
    "\n",
    "y0 = a_list  # Starting with a small initial value for y\n",
    "\n",
    "# Time span for the solution\n",
    "t_span = (t_min, t_max)\n",
    "t_eval = np.linspace(t_span[0], t_span[1], 5000)\n",
    "\n",
    "\n",
    "# Plotting the results\n",
    "plt.figure(figsize=(7, 7))\n",
    "plt.subplot(1, 1, 1)\n",
    "for head in range(solver.n_heads):\n",
    "  solver.best_nets = nets[:,head]\n",
    "  solution = solver.get_solution(best=True)\n",
    "  a = a_list[head]*np.ones_like(t_eval)\n",
    "  #gen = torch.stack([torch.tensor(t_vals),torch.tensor(a)],dim = 1)\n",
    "  y1 = solution(t_eval,a)\n",
    "  #y2 = solution(t_vals,a)[1]\n",
    "  plt.plot(t_eval,y1.cpu().detach().numpy(),label = '$x^{NN}(t),  a = $' + str(a[0]),linewidth = 2)\n",
    "  #plt.plot(t_vals,y2.cpu().detach().numpy(),label = '$y^{NN}(t)$',linewidth = 2)\n",
    "\n",
    "\n",
    "# Solve the ODE\n",
    "sol = solve_ivp(flame_equation, t_span, y0, t_eval=t_eval, method='RK45')\n",
    "\n",
    "# Plot the results\n",
    "plt.plot(sol.t, sol.y[0], label='y(t)',linestyle = 'dashed', linewidth = 3)\n",
    "\n",
    "plt.xlabel('Time')\n",
    "plt.ylabel('Values')\n",
    "plt.legend()\n",
    "plt.title('Flame equation')\n",
    "\n",
    "#plt.subplot(1, 2, 2)\n",
    "#plt.plot(y1.cpu().detach().numpy(),y2.cpu().detach().numpy(),label = 'NN sol.',linewidth = 2)\n",
    "#plt.plot(x_sol, y_sol,label = 'Num. sol.',linestyle = 'dashed', linewidth = 3)\n",
    "#plt.xlabel('x')\n",
    "#plt.ylabel('y')\n",
    "#plt.title('Phase Space Plot')\n",
    "#plt.legend()\n",
    "\n",
    "plt.tight_layout()\n",
    "plt.savefig('transfer_solution_flat.pdf')\n",
    "plt.show()\n"
   ]
  },
  {
   "cell_type": "code",
   "execution_count": 43,
   "id": "cujXf97nAnWm",
   "metadata": {
    "id": "cujXf97nAnWm"
   },
   "outputs": [],
   "source": [
    "save_nets('Transfered_net_flat',nets,adam,solver)\n"
   ]
  },
  {
   "cell_type": "code",
   "execution_count": null,
   "id": "ac8af39c",
   "metadata": {},
   "outputs": [],
   "source": []
  }
 ],
 "metadata": {
  "accelerator": "GPU",
  "colab": {
   "gpuType": "T4",
   "provenance": []
  },
  "kernelspec": {
   "display_name": "Python 3 (ipykernel)",
   "language": "python",
   "name": "python3"
  },
  "language_info": {
   "codemirror_mode": {
    "name": "ipython",
    "version": 3
   },
   "file_extension": ".py",
   "mimetype": "text/x-python",
   "name": "python",
   "nbconvert_exporter": "python",
   "pygments_lexer": "ipython3",
   "version": "3.11.5"
  },
  "widgets": {
   "application/vnd.jupyter.widget-state+json": {
    "032ae8b0fc414cc7b6d736e718d2f8c6": {
     "model_module": "@jupyter-widgets/controls",
     "model_module_version": "1.5.0",
     "model_name": "DescriptionStyleModel",
     "state": {
      "_model_module": "@jupyter-widgets/controls",
      "_model_module_version": "1.5.0",
      "_model_name": "DescriptionStyleModel",
      "_view_count": null,
      "_view_module": "@jupyter-widgets/base",
      "_view_module_version": "1.2.0",
      "_view_name": "StyleView",
      "description_width": ""
     }
    },
    "0cef4396987845a6bbc2bcfb45f53678": {
     "model_module": "@jupyter-widgets/controls",
     "model_module_version": "1.5.0",
     "model_name": "ProgressStyleModel",
     "state": {
      "_model_module": "@jupyter-widgets/controls",
      "_model_module_version": "1.5.0",
      "_model_name": "ProgressStyleModel",
      "_view_count": null,
      "_view_module": "@jupyter-widgets/base",
      "_view_module_version": "1.2.0",
      "_view_name": "StyleView",
      "bar_color": "blue",
      "description_width": ""
     }
    },
    "117525edffc64cfeab9971b3505973eb": {
     "model_module": "@jupyter-widgets/base",
     "model_module_version": "1.2.0",
     "model_name": "LayoutModel",
     "state": {
      "_model_module": "@jupyter-widgets/base",
      "_model_module_version": "1.2.0",
      "_model_name": "LayoutModel",
      "_view_count": null,
      "_view_module": "@jupyter-widgets/base",
      "_view_module_version": "1.2.0",
      "_view_name": "LayoutView",
      "align_content": null,
      "align_items": null,
      "align_self": null,
      "border": null,
      "bottom": null,
      "display": "inline-flex",
      "flex": null,
      "flex_flow": "row wrap",
      "grid_area": null,
      "grid_auto_columns": null,
      "grid_auto_flow": null,
      "grid_auto_rows": null,
      "grid_column": null,
      "grid_gap": null,
      "grid_row": null,
      "grid_template_areas": null,
      "grid_template_columns": null,
      "grid_template_rows": null,
      "height": null,
      "justify_content": null,
      "justify_items": null,
      "left": null,
      "margin": null,
      "max_height": null,
      "max_width": null,
      "min_height": null,
      "min_width": null,
      "object_fit": null,
      "object_position": null,
      "order": null,
      "overflow": null,
      "overflow_x": null,
      "overflow_y": null,
      "padding": null,
      "right": null,
      "top": null,
      "visibility": null,
      "width": "100%"
     }
    },
    "1bd57fb71a464951ada5357c4df502b5": {
     "model_module": "@jupyter-widgets/controls",
     "model_module_version": "1.5.0",
     "model_name": "HTMLModel",
     "state": {
      "_dom_classes": [],
      "_model_module": "@jupyter-widgets/controls",
      "_model_module_version": "1.5.0",
      "_model_name": "HTMLModel",
      "_view_count": null,
      "_view_module": "@jupyter-widgets/controls",
      "_view_module_version": "1.5.0",
      "_view_name": "HTMLView",
      "description": "",
      "description_tooltip": null,
      "layout": "IPY_MODEL_667d977a40624706a5810f60f043d70e",
      "placeholder": "​",
      "style": "IPY_MODEL_032ae8b0fc414cc7b6d736e718d2f8c6",
      "value": "Training Progress:   8%"
     }
    },
    "4a05873a560b4b45ac197c18d024e7b9": {
     "model_module": "@jupyter-widgets/base",
     "model_module_version": "1.2.0",
     "model_name": "LayoutModel",
     "state": {
      "_model_module": "@jupyter-widgets/base",
      "_model_module_version": "1.2.0",
      "_model_name": "LayoutModel",
      "_view_count": null,
      "_view_module": "@jupyter-widgets/base",
      "_view_module_version": "1.2.0",
      "_view_name": "LayoutView",
      "align_content": null,
      "align_items": null,
      "align_self": null,
      "border": null,
      "bottom": null,
      "display": null,
      "flex": null,
      "flex_flow": null,
      "grid_area": null,
      "grid_auto_columns": null,
      "grid_auto_flow": null,
      "grid_auto_rows": null,
      "grid_column": null,
      "grid_gap": null,
      "grid_row": null,
      "grid_template_areas": null,
      "grid_template_columns": null,
      "grid_template_rows": null,
      "height": null,
      "justify_content": null,
      "justify_items": null,
      "left": null,
      "margin": null,
      "max_height": null,
      "max_width": null,
      "min_height": null,
      "min_width": null,
      "object_fit": null,
      "object_position": null,
      "order": null,
      "overflow": null,
      "overflow_x": null,
      "overflow_y": null,
      "padding": null,
      "right": null,
      "top": null,
      "visibility": null,
      "width": null
     }
    },
    "5e1e258509f64dc292efb4830ee0ea59": {
     "model_module": "@jupyter-widgets/controls",
     "model_module_version": "1.5.0",
     "model_name": "HBoxModel",
     "state": {
      "_dom_classes": [],
      "_model_module": "@jupyter-widgets/controls",
      "_model_module_version": "1.5.0",
      "_model_name": "HBoxModel",
      "_view_count": null,
      "_view_module": "@jupyter-widgets/controls",
      "_view_module_version": "1.5.0",
      "_view_name": "HBoxView",
      "box_style": "",
      "children": [
       "IPY_MODEL_1bd57fb71a464951ada5357c4df502b5",
       "IPY_MODEL_786f87d884f64f248a524a31e3894c93",
       "IPY_MODEL_f57ed57f746049749a5294eefab53410"
      ],
      "layout": "IPY_MODEL_117525edffc64cfeab9971b3505973eb"
     }
    },
    "667d977a40624706a5810f60f043d70e": {
     "model_module": "@jupyter-widgets/base",
     "model_module_version": "1.2.0",
     "model_name": "LayoutModel",
     "state": {
      "_model_module": "@jupyter-widgets/base",
      "_model_module_version": "1.2.0",
      "_model_name": "LayoutModel",
      "_view_count": null,
      "_view_module": "@jupyter-widgets/base",
      "_view_module_version": "1.2.0",
      "_view_name": "LayoutView",
      "align_content": null,
      "align_items": null,
      "align_self": null,
      "border": null,
      "bottom": null,
      "display": null,
      "flex": null,
      "flex_flow": null,
      "grid_area": null,
      "grid_auto_columns": null,
      "grid_auto_flow": null,
      "grid_auto_rows": null,
      "grid_column": null,
      "grid_gap": null,
      "grid_row": null,
      "grid_template_areas": null,
      "grid_template_columns": null,
      "grid_template_rows": null,
      "height": null,
      "justify_content": null,
      "justify_items": null,
      "left": null,
      "margin": null,
      "max_height": null,
      "max_width": null,
      "min_height": null,
      "min_width": null,
      "object_fit": null,
      "object_position": null,
      "order": null,
      "overflow": null,
      "overflow_x": null,
      "overflow_y": null,
      "padding": null,
      "right": null,
      "top": null,
      "visibility": null,
      "width": null
     }
    },
    "6be846cc1b7e4d4b8cff2947ed6d7f59": {
     "model_module": "@jupyter-widgets/controls",
     "model_module_version": "1.5.0",
     "model_name": "DescriptionStyleModel",
     "state": {
      "_model_module": "@jupyter-widgets/controls",
      "_model_module_version": "1.5.0",
      "_model_name": "DescriptionStyleModel",
      "_view_count": null,
      "_view_module": "@jupyter-widgets/base",
      "_view_module_version": "1.2.0",
      "_view_name": "StyleView",
      "description_width": ""
     }
    },
    "786f87d884f64f248a524a31e3894c93": {
     "model_module": "@jupyter-widgets/controls",
     "model_module_version": "1.5.0",
     "model_name": "FloatProgressModel",
     "state": {
      "_dom_classes": [],
      "_model_module": "@jupyter-widgets/controls",
      "_model_module_version": "1.5.0",
      "_model_name": "FloatProgressModel",
      "_view_count": null,
      "_view_module": "@jupyter-widgets/controls",
      "_view_module_version": "1.5.0",
      "_view_name": "ProgressView",
      "bar_style": "",
      "description": "",
      "description_tooltip": null,
      "layout": "IPY_MODEL_fdf2423e8791467a95dbf4e2825783b3",
      "max": 30000,
      "min": 0,
      "orientation": "horizontal",
      "style": "IPY_MODEL_0cef4396987845a6bbc2bcfb45f53678",
      "value": 2301
     }
    },
    "f57ed57f746049749a5294eefab53410": {
     "model_module": "@jupyter-widgets/controls",
     "model_module_version": "1.5.0",
     "model_name": "HTMLModel",
     "state": {
      "_dom_classes": [],
      "_model_module": "@jupyter-widgets/controls",
      "_model_module_version": "1.5.0",
      "_model_name": "HTMLModel",
      "_view_count": null,
      "_view_module": "@jupyter-widgets/controls",
      "_view_module_version": "1.5.0",
      "_view_name": "HTMLView",
      "description": "",
      "description_tooltip": null,
      "layout": "IPY_MODEL_4a05873a560b4b45ac197c18d024e7b9",
      "placeholder": "​",
      "style": "IPY_MODEL_6be846cc1b7e4d4b8cff2947ed6d7f59",
      "value": " 2301/30000 [01:13&lt;14:05, 32.77it/s]"
     }
    },
    "fdf2423e8791467a95dbf4e2825783b3": {
     "model_module": "@jupyter-widgets/base",
     "model_module_version": "1.2.0",
     "model_name": "LayoutModel",
     "state": {
      "_model_module": "@jupyter-widgets/base",
      "_model_module_version": "1.2.0",
      "_model_name": "LayoutModel",
      "_view_count": null,
      "_view_module": "@jupyter-widgets/base",
      "_view_module_version": "1.2.0",
      "_view_name": "LayoutView",
      "align_content": null,
      "align_items": null,
      "align_self": null,
      "border": null,
      "bottom": null,
      "display": null,
      "flex": "2",
      "flex_flow": null,
      "grid_area": null,
      "grid_auto_columns": null,
      "grid_auto_flow": null,
      "grid_auto_rows": null,
      "grid_column": null,
      "grid_gap": null,
      "grid_row": null,
      "grid_template_areas": null,
      "grid_template_columns": null,
      "grid_template_rows": null,
      "height": null,
      "justify_content": null,
      "justify_items": null,
      "left": null,
      "margin": null,
      "max_height": null,
      "max_width": null,
      "min_height": null,
      "min_width": null,
      "object_fit": null,
      "object_position": null,
      "order": null,
      "overflow": null,
      "overflow_x": null,
      "overflow_y": null,
      "padding": null,
      "right": null,
      "top": null,
      "visibility": null,
      "width": null
     }
    }
   }
  }
 },
 "nbformat": 4,
 "nbformat_minor": 5
}
